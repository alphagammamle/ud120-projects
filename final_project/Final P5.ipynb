{
 "cells": [
  {
   "cell_type": "markdown",
   "metadata": {},
   "source": [
    "# Identifying Fraud from Enron Email "
   ]
  },
  {
   "cell_type": "markdown",
   "metadata": {},
   "source": [
    "# 1. Setting Up Environment"
   ]
  },
  {
   "cell_type": "code",
   "execution_count": 1,
   "metadata": {
    "collapsed": false
   },
   "outputs": [
    {
     "name": "stderr",
     "output_type": "stream",
     "text": [
      "C:\\Users\\leland\\Anaconda2\\lib\\site-packages\\sklearn\\cross_validation.py:44: DeprecationWarning: This module was deprecated in version 0.18 in favor of the model_selection module into which all the refactored classes and functions are moved. Also note that the interface of the new CV iterators are different from that of this module. This module will be removed in 0.20.\n",
      "  \"This module will be removed in 0.20.\", DeprecationWarning)\n"
     ]
    }
   ],
   "source": [
    "#!/usr/bin/python\n",
    "import numpy as np\n",
    "import seaborn as sns\n",
    "import matplotlib.pyplot as plt\n",
    "%matplotlib inline\n",
    "\n",
    "from __future__ import division\n",
    "from sklearn.metrics  import confusion_matrix \n",
    "from sklearn.naive_bayes import GaussianNB\n",
    "from sklearn.cross_validation import train_test_split   ##### Change to newer version\n",
    "from sklearn import tree\n",
    "from sklearn.metrics import accuracy_score\n",
    "import sys\n",
    "from time import time\n",
    "import pickle\n",
    "import pandas as pd\n",
    "pd.set_option('display.float_format', lambda x: '%.3f' % x)\n",
    "pd.set_option(\"display.precision\", 3)\n",
    "'''\n",
    "pd.set_option('display.max_columns', 30)\n",
    "pd.set_option('display.width', None)\n",
    "pd.set_option('display.max_colwidth', 0)\n",
    "'''\n",
    "sys.path.append(\"../tools/\")\n",
    "from feature_format import featureFormat, targetFeatureSplit\n",
    "from tester import dump_classifier_and_data\n",
    "import sys\n"
   ]
  },
  {
   "cell_type": "markdown",
   "metadata": {},
   "source": [
    "# 2. Understanding the Dataset\n",
    "\n",
    "## 2.1 Data Exploration\n",
    "\n",
    "\n",
    "### Bckground\n",
    "\n",
    "In 2000, Enron was one of the largest companies in the United States. By 2002, it had collapsed into bankruptcy due to widespread corporate fraud. In the resulting Federal investigation, a significant amount of typically confidential information entered into the public record, including tens of thousands of emails and detailed financial data for top executives. \n",
    "\n",
    "### Data Structure\n",
    "- Financial features: ['salary', 'deferral_payments', 'total_payments', 'loan_advances', 'bonus', 'restricted_stock_deferred', 'deferred_income', 'total_stock_value', 'expenses', 'exercised_stock_options', 'other', 'long_term_incentive', 'restricted_stock', 'director_fees'] (all units are in US dollars)\n",
    "\n",
    "- Email features: ['to_messages', 'email_address', 'from_poi_to_this_person', 'from_messages', 'from_this_person_to_poi', 'shared_receipt_with_poi'] (units are generally number of emails messages; notable exception is ‘email_address’, which is a text string)\n",
    "\n",
    "- POI label: [‘poi’] (boolean, represented as integer)"
   ]
  },
  {
   "cell_type": "code",
   "execution_count": 2,
   "metadata": {
    "collapsed": false
   },
   "outputs": [],
   "source": [
    "### Load the dictionary containing the dataset\n",
    "with open(\"final_project_dataset.pkl\", \"r\") as data_file:\n",
    "    data_dict = pickle.load(data_file)"
   ]
  },
  {
   "cell_type": "code",
   "execution_count": 3,
   "metadata": {
    "collapsed": false
   },
   "outputs": [
    {
     "data": {
      "text/plain": [
       "dict"
      ]
     },
     "execution_count": 3,
     "metadata": {},
     "output_type": "execute_result"
    }
   ],
   "source": [
    "type(data_dict)"
   ]
  },
  {
   "cell_type": "code",
   "execution_count": 4,
   "metadata": {
    "collapsed": false
   },
   "outputs": [
    {
     "data": {
      "text/plain": [
       "146"
      ]
     },
     "execution_count": 4,
     "metadata": {},
     "output_type": "execute_result"
    }
   ],
   "source": [
    "len(data_dict.keys()) # number of observations"
   ]
  },
  {
   "cell_type": "code",
   "execution_count": 5,
   "metadata": {
    "collapsed": false,
    "scrolled": false
   },
   "outputs": [
    {
     "data": {
      "text/plain": [
       "['ALLEN PHILLIP K',\n",
       " 'BADUM JAMES P',\n",
       " 'BANNANTINE JAMES M',\n",
       " 'BAXTER JOHN C',\n",
       " 'BAY FRANKLIN R',\n",
       " 'BAZELIDES PHILIP J',\n",
       " 'BECK SALLY W',\n",
       " 'BELDEN TIMOTHY N',\n",
       " 'BELFER ROBERT',\n",
       " 'BERBERIAN DAVID',\n",
       " 'BERGSIEKER RICHARD P',\n",
       " 'BHATNAGAR SANJAY',\n",
       " 'BIBI PHILIPPE A',\n",
       " 'BLACHMAN JEREMY M',\n",
       " 'BLAKE JR. NORMAN P',\n",
       " 'BOWEN JR RAYMOND M',\n",
       " 'BROWN MICHAEL',\n",
       " 'BUCHANAN HAROLD G',\n",
       " 'BUTTS ROBERT H',\n",
       " 'BUY RICHARD B',\n",
       " 'CALGER CHRISTOPHER F',\n",
       " 'CARTER REBECCA C',\n",
       " 'CAUSEY RICHARD A',\n",
       " 'CHAN RONNIE',\n",
       " 'CHRISTODOULOU DIOMEDES',\n",
       " 'CLINE KENNETH W',\n",
       " 'COLWELL WESLEY',\n",
       " 'CORDES WILLIAM R',\n",
       " 'COX DAVID',\n",
       " 'CUMBERLAND MICHAEL S',\n",
       " 'DEFFNER JOSEPH M',\n",
       " 'DELAINEY DAVID W',\n",
       " 'DERRICK JR. JAMES V',\n",
       " 'DETMERING TIMOTHY J',\n",
       " 'DIETRICH JANET R',\n",
       " 'DIMICHELE RICHARD G',\n",
       " 'DODSON KEITH',\n",
       " 'DONAHUE JR JEFFREY M',\n",
       " 'DUNCAN JOHN H',\n",
       " 'DURAN WILLIAM D',\n",
       " 'ECHOLS JOHN B',\n",
       " 'ELLIOTT STEVEN',\n",
       " 'FALLON JAMES B',\n",
       " 'FASTOW ANDREW S',\n",
       " 'FITZGERALD JAY L',\n",
       " 'FOWLER PEGGY',\n",
       " 'FOY JOE',\n",
       " 'FREVERT MARK A',\n",
       " 'FUGH JOHN L',\n",
       " 'GAHN ROBERT S',\n",
       " 'GARLAND C KEVIN',\n",
       " 'GATHMANN WILLIAM D',\n",
       " 'GIBBS DANA R',\n",
       " 'GILLIS JOHN',\n",
       " 'GLISAN JR BEN F',\n",
       " 'GOLD JOSEPH',\n",
       " 'GRAMM WENDY L',\n",
       " 'GRAY RODNEY',\n",
       " 'HAEDICKE MARK E',\n",
       " 'HANNON KEVIN P',\n",
       " 'HAUG DAVID L',\n",
       " 'HAYES ROBERT E',\n",
       " 'HAYSLETT RODERICK J',\n",
       " 'HERMANN ROBERT J',\n",
       " 'HICKERSON GARY J',\n",
       " 'HIRKO JOSEPH',\n",
       " 'HORTON STANLEY C',\n",
       " 'HUGHES JAMES A',\n",
       " 'HUMPHREY GENE E',\n",
       " 'IZZO LAWRENCE L',\n",
       " 'JACKSON CHARLENE R',\n",
       " 'JAEDICKE ROBERT',\n",
       " 'KAMINSKI WINCENTY J',\n",
       " 'KEAN STEVEN J',\n",
       " 'KISHKILL JOSEPH G',\n",
       " 'KITCHEN LOUISE',\n",
       " 'KOENIG MARK E',\n",
       " 'KOPPER MICHAEL J',\n",
       " 'LAVORATO JOHN J',\n",
       " 'LAY KENNETH L',\n",
       " 'LEFF DANIEL P',\n",
       " 'LEMAISTRE CHARLES',\n",
       " 'LEWIS RICHARD',\n",
       " 'LINDHOLM TOD A',\n",
       " 'LOCKHART EUGENE E',\n",
       " 'LOWRY CHARLES P',\n",
       " 'MARTIN AMANDA K',\n",
       " 'MCCARTY DANNY J',\n",
       " 'MCCLELLAN GEORGE',\n",
       " 'MCCONNELL MICHAEL S',\n",
       " 'MCDONALD REBECCA',\n",
       " 'MCMAHON JEFFREY',\n",
       " 'MENDELSOHN JOHN',\n",
       " 'METTS MARK',\n",
       " 'MEYER JEROME J',\n",
       " 'MEYER ROCKFORD G',\n",
       " 'MORAN MICHAEL P',\n",
       " 'MORDAUNT KRISTINA M',\n",
       " 'MULLER MARK S',\n",
       " 'MURRAY JULIA H',\n",
       " 'NOLES JAMES L',\n",
       " 'OLSON CINDY K',\n",
       " 'OVERDYKE JR JERE C',\n",
       " 'PAI LOU L',\n",
       " 'PEREIRA PAULO V. FERRAZ',\n",
       " 'PICKERING MARK R',\n",
       " 'PIPER GREGORY F',\n",
       " 'PIRO JIM',\n",
       " 'POWERS WILLIAM',\n",
       " 'PRENTICE JAMES',\n",
       " 'REDMOND BRIAN L',\n",
       " 'REYNOLDS LAWRENCE',\n",
       " 'RICE KENNETH D',\n",
       " 'RIEKER PAULA H',\n",
       " 'SAVAGE FRANK',\n",
       " 'SCRIMSHAW MATTHEW',\n",
       " 'SHANKMAN JEFFREY A',\n",
       " 'SHAPIRO RICHARD S',\n",
       " 'SHARP VICTORIA T',\n",
       " 'SHELBY REX',\n",
       " 'SHERRICK JEFFREY B',\n",
       " 'SHERRIFF JOHN R',\n",
       " 'SKILLING JEFFREY K',\n",
       " 'STABLER FRANK',\n",
       " 'SULLIVAN-SHAKLOVITZ COLLEEN',\n",
       " 'SUNDE MARTIN',\n",
       " 'TAYLOR MITCHELL S',\n",
       " 'THE TRAVEL AGENCY IN THE PARK',\n",
       " 'THORN TERENCE H',\n",
       " 'TILNEY ELIZABETH A',\n",
       " 'TOTAL',\n",
       " 'UMANOFF ADAM S',\n",
       " 'URQUHART JOHN A',\n",
       " 'WAKEHAM JOHN',\n",
       " 'WALLS JR ROBERT H',\n",
       " 'WALTERS GARETH W',\n",
       " 'WASAFF GEORGE',\n",
       " 'WESTFAHL RICHARD K',\n",
       " 'WHALEY DAVID A',\n",
       " 'WHALLEY LAWRENCE G',\n",
       " 'WHITE JR THOMAS E',\n",
       " 'WINOKUR JR. HERBERT S',\n",
       " 'WODRASKA JOHN',\n",
       " 'WROBEL BRUCE',\n",
       " 'YEAGER F SCOTT',\n",
       " 'YEAP SOON']"
      ]
     },
     "execution_count": 5,
     "metadata": {},
     "output_type": "execute_result"
    }
   ],
   "source": [
    "sorted(data_dict.keys()) # preview keys"
   ]
  },
  {
   "cell_type": "code",
   "execution_count": 6,
   "metadata": {
    "collapsed": false,
    "scrolled": false
   },
   "outputs": [
    {
     "data": {
      "text/plain": [
       "['salary',\n",
       " 'to_messages',\n",
       " 'deferral_payments',\n",
       " 'total_payments',\n",
       " 'exercised_stock_options',\n",
       " 'bonus',\n",
       " 'restricted_stock',\n",
       " 'shared_receipt_with_poi',\n",
       " 'restricted_stock_deferred',\n",
       " 'total_stock_value',\n",
       " 'expenses',\n",
       " 'loan_advances',\n",
       " 'from_messages',\n",
       " 'other',\n",
       " 'from_this_person_to_poi',\n",
       " 'poi',\n",
       " 'director_fees',\n",
       " 'deferred_income',\n",
       " 'long_term_incentive',\n",
       " 'email_address',\n",
       " 'from_poi_to_this_person']"
      ]
     },
     "execution_count": 6,
     "metadata": {},
     "output_type": "execute_result"
    }
   ],
   "source": [
    "data_dict['METTS MARK'].keys()  # features"
   ]
  },
  {
   "cell_type": "code",
   "execution_count": 7,
   "metadata": {
    "collapsed": false
   },
   "outputs": [
    {
     "name": "stdout",
     "output_type": "stream",
     "text": [
      "HANNON KEVIN P\n",
      "COLWELL WESLEY\n",
      "RIEKER PAULA H\n",
      "KOPPER MICHAEL J\n",
      "SHELBY REX\n",
      "DELAINEY DAVID W\n",
      "LAY KENNETH L\n",
      "BOWEN JR RAYMOND M\n",
      "BELDEN TIMOTHY N\n",
      "FASTOW ANDREW S\n",
      "CALGER CHRISTOPHER F\n",
      "RICE KENNETH D\n",
      "SKILLING JEFFREY K\n",
      "YEAGER F SCOTT\n",
      "HIRKO JOSEPH\n",
      "KOENIG MARK E\n",
      "CAUSEY RICHARD A\n",
      "GLISAN JR BEN F\n"
     ]
    },
    {
     "data": {
      "text/plain": [
       "18"
      ]
     },
     "execution_count": 7,
     "metadata": {},
     "output_type": "execute_result"
    }
   ],
   "source": [
    "# people of interest\n",
    "count=0\n",
    "for key,item in data_dict.iteritems():\n",
    "    if item['poi']:\n",
    "        print key\n",
    "        count +=1\n",
    "count"
   ]
  },
  {
   "cell_type": "code",
   "execution_count": 8,
   "metadata": {
    "collapsed": true
   },
   "outputs": [],
   "source": [
    "# create a dictionary for all missing values\n",
    "missing = {}\n",
    "for key, item in data_dict.iteritems():\n",
    "    for elem, value in item.iteritems():\n",
    "        if value == \"NaN\":\n",
    "            if elem not in missing:\n",
    "                missing[elem] = 1\n",
    "            else:\n",
    "                missing[elem] += 1"
   ]
  },
  {
   "cell_type": "code",
   "execution_count": 9,
   "metadata": {
    "collapsed": false
   },
   "outputs": [
    {
     "data": {
      "text/plain": [
       "{'bonus': 64,\n",
       " 'deferral_payments': 107,\n",
       " 'deferred_income': 97,\n",
       " 'director_fees': 129,\n",
       " 'email_address': 35,\n",
       " 'exercised_stock_options': 44,\n",
       " 'expenses': 51,\n",
       " 'from_messages': 60,\n",
       " 'from_poi_to_this_person': 60,\n",
       " 'from_this_person_to_poi': 60,\n",
       " 'loan_advances': 142,\n",
       " 'long_term_incentive': 80,\n",
       " 'other': 53,\n",
       " 'restricted_stock': 36,\n",
       " 'restricted_stock_deferred': 128,\n",
       " 'salary': 51,\n",
       " 'shared_receipt_with_poi': 60,\n",
       " 'to_messages': 60,\n",
       " 'total_payments': 21,\n",
       " 'total_stock_value': 20}"
      ]
     },
     "execution_count": 9,
     "metadata": {},
     "output_type": "execute_result"
    }
   ],
   "source": [
    "# Missing values\n",
    "missing = {}\n",
    "for key, item in data_dict.iteritems():\n",
    "    for elem, value in item.iteritems():\n",
    "        if value == \"NaN\":\n",
    "            if elem not in missing:\n",
    "                missing[elem] = 1\n",
    "            else:\n",
    "                missing[elem] += 1\n",
    "missing"
   ]
  },
  {
   "cell_type": "code",
   "execution_count": 10,
   "metadata": {
    "collapsed": false
   },
   "outputs": [
    {
     "data": {
      "text/plain": [
       "1358"
      ]
     },
     "execution_count": 10,
     "metadata": {},
     "output_type": "execute_result"
    }
   ],
   "source": [
    "# number of missing values\n",
    "number_of_missing = 0\n",
    "for key, item in missing.iteritems():\n",
    "    number_of_missing += item\n",
    "number_of_missing"
   ]
  },
  {
   "cell_type": "markdown",
   "metadata": {},
   "source": [
    "### Data Summary\n",
    "\n",
    "- We have 146 people / data points in our dataset.\n",
    "- There are 128 non-POIs and 18 POIs in our dataset.\n",
    "- There are 21 available features.\n",
    "- We have 1358 missing data points\n",
    "\n",
    "The following features seems to lack data points:\n",
    "\n",
    "- director_fees\n",
    "- loan_advances\n",
    "- deferral_payments\n",
    "- deferred_income\n",
    "- restricted_stock_deferred\n",
    "\n",
    "We will later convert these NaNs to zeros through feature format."
   ]
  },
  {
   "cell_type": "markdown",
   "metadata": {},
   "source": [
    "## 2.2 Remove Outliers\n",
    "\n",
    "Outliers could bias out model.First we will check whether some of data are outliers. Then we will see whether we should remove them or not. We have already know there is an outlier called 'total',which we will remove first."
   ]
  },
  {
   "cell_type": "code",
   "execution_count": 11,
   "metadata": {
    "collapsed": false
   },
   "outputs": [
    {
     "data": {
      "text/plain": [
       "{'bonus': 97343619,\n",
       " 'deferral_payments': 32083396,\n",
       " 'deferred_income': -27992891,\n",
       " 'director_fees': 1398517,\n",
       " 'email_address': 'NaN',\n",
       " 'exercised_stock_options': 311764000,\n",
       " 'expenses': 5235198,\n",
       " 'from_messages': 'NaN',\n",
       " 'from_poi_to_this_person': 'NaN',\n",
       " 'from_this_person_to_poi': 'NaN',\n",
       " 'loan_advances': 83925000,\n",
       " 'long_term_incentive': 48521928,\n",
       " 'other': 42667589,\n",
       " 'poi': False,\n",
       " 'restricted_stock': 130322299,\n",
       " 'restricted_stock_deferred': -7576788,\n",
       " 'salary': 26704229,\n",
       " 'shared_receipt_with_poi': 'NaN',\n",
       " 'to_messages': 'NaN',\n",
       " 'total_payments': 309886585,\n",
       " 'total_stock_value': 434509511}"
      ]
     },
     "execution_count": 11,
     "metadata": {},
     "output_type": "execute_result"
    }
   ],
   "source": [
    "# Remove 'Total'\n",
    "data_dict.pop('TOTAL','not found')"
   ]
  },
  {
   "cell_type": "markdown",
   "metadata": {},
   "source": [
    "### (1) Check for Outliers\n",
    "\n",
    "First we take all features. We will do some summary statistics to all them to spot outliers."
   ]
  },
  {
   "cell_type": "code",
   "execution_count": 12,
   "metadata": {
    "collapsed": false
   },
   "outputs": [],
   "source": [
    "### features_list is a list of strings, each of which is a feature name.\n",
    "### The first feature must be \"poi\".\n",
    "features_to_test = ['poi',\n",
    "                 'salary',\n",
    "                 'to_messages',\n",
    "                 'deferral_payments',\n",
    "                 'total_payments',\n",
    "                 'exercised_stock_options',\n",
    "                 'bonus',\n",
    "                 'restricted_stock',\n",
    "                 'shared_receipt_with_poi',\n",
    "                 'restricted_stock_deferred',\n",
    "                 'total_stock_value',\n",
    "                 'expenses',\n",
    "                 'loan_advances',\n",
    "                 'from_messages',\n",
    "                 'other',\n",
    "                 'from_this_person_to_poi',\n",
    "                 'director_fees',\n",
    "                 'deferred_income',\n",
    "                 'long_term_incentive',\n",
    "                 'from_poi_to_this_person']\n",
    "\n",
    "# format the dataset\n",
    "data_to_test = featureFormat(data_dict, features_to_test)\n",
    "\n",
    "# create a pandas dataframe\n",
    "df = pd.DataFrame(data_to_test, columns = features_to_test)"
   ]
  },
  {
   "cell_type": "code",
   "execution_count": 13,
   "metadata": {
    "collapsed": false
   },
   "outputs": [
    {
     "name": "stderr",
     "output_type": "stream",
     "text": [
      "C:\\Users\\leland\\Anaconda2\\lib\\site-packages\\ipykernel\\__main__.py:6: FutureWarning: convert_objects is deprecated.  Use the data-type specific converters pd.to_datetime, pd.to_timedelta and pd.to_numeric.\n"
     ]
    }
   ],
   "source": [
    "# an alternative way to convert to pd\n",
    "\n",
    "# We will use pandas many times in our project so turn this into a function:\n",
    "def to_pandas(data_dict):\n",
    "    df = pd.DataFrame(data_dict)\n",
    "    df = df.convert_objects(convert_numeric=True)\n",
    "    df = df.transpose()\n",
    "    df.reset_index(level=0, inplace=True)\n",
    "    # Renaming with df.rename(columns={'index': 'name'}) does not work\n",
    "    # pandas bug??\n",
    "    columns = list(df.columns)\n",
    "    columns[0] = 'name'\n",
    "    df.columns = columns\n",
    "    return(df)\n",
    "df = to_pandas(data_dict)"
   ]
  },
  {
   "cell_type": "code",
   "execution_count": 14,
   "metadata": {
    "collapsed": false
   },
   "outputs": [
    {
     "data": {
      "text/plain": [
       "(145, 22)"
      ]
     },
     "execution_count": 14,
     "metadata": {},
     "output_type": "execute_result"
    }
   ],
   "source": [
    "df.shape"
   ]
  },
  {
   "cell_type": "code",
   "execution_count": 15,
   "metadata": {
    "collapsed": false
   },
   "outputs": [
    {
     "data": {
      "text/plain": [
       "145"
      ]
     },
     "execution_count": 15,
     "metadata": {},
     "output_type": "execute_result"
    }
   ],
   "source": [
    "len(data_dict.keys())"
   ]
  },
  {
   "cell_type": "code",
   "execution_count": 16,
   "metadata": {
    "collapsed": false
   },
   "outputs": [
    {
     "data": {
      "text/plain": [
       "numpy.ndarray"
      ]
     },
     "execution_count": 16,
     "metadata": {},
     "output_type": "execute_result"
    }
   ],
   "source": [
    "type(data_to_test)"
   ]
  },
  {
   "cell_type": "code",
   "execution_count": 17,
   "metadata": {
    "collapsed": false
   },
   "outputs": [
    {
     "data": {
      "text/plain": [
       "(144L, 20L)"
      ]
     },
     "execution_count": 17,
     "metadata": {},
     "output_type": "execute_result"
    }
   ],
   "source": [
    "data_to_test.shape"
   ]
  },
  {
   "cell_type": "code",
   "execution_count": 18,
   "metadata": {
    "collapsed": false
   },
   "outputs": [
    {
     "data": {
      "text/plain": [
       "(145, 22)"
      ]
     },
     "execution_count": 18,
     "metadata": {},
     "output_type": "execute_result"
    }
   ],
   "source": [
    "df.shape"
   ]
  },
  {
   "cell_type": "code",
   "execution_count": 19,
   "metadata": {
    "collapsed": false,
    "scrolled": false
   },
   "outputs": [
    {
     "data": {
      "text/html": [
       "<div>\n",
       "<table border=\"1\" class=\"dataframe\">\n",
       "  <thead>\n",
       "    <tr style=\"text-align: right;\">\n",
       "      <th></th>\n",
       "      <th>count</th>\n",
       "      <th>mean</th>\n",
       "      <th>std</th>\n",
       "      <th>min</th>\n",
       "      <th>25%</th>\n",
       "      <th>50%</th>\n",
       "      <th>75%</th>\n",
       "      <th>max</th>\n",
       "    </tr>\n",
       "  </thead>\n",
       "  <tbody>\n",
       "    <tr>\n",
       "      <th>bonus</th>\n",
       "      <td>81.000</td>\n",
       "      <td>1201773.074</td>\n",
       "      <td>1441679.438</td>\n",
       "      <td>70000.000</td>\n",
       "      <td>425000.000</td>\n",
       "      <td>750000.000</td>\n",
       "      <td>1200000.000</td>\n",
       "      <td>8000000.000</td>\n",
       "    </tr>\n",
       "    <tr>\n",
       "      <th>deferral_payments</th>\n",
       "      <td>38.000</td>\n",
       "      <td>841602.526</td>\n",
       "      <td>1289322.626</td>\n",
       "      <td>-102500.000</td>\n",
       "      <td>79644.500</td>\n",
       "      <td>221063.500</td>\n",
       "      <td>867211.250</td>\n",
       "      <td>6426990.000</td>\n",
       "    </tr>\n",
       "    <tr>\n",
       "      <th>deferred_income</th>\n",
       "      <td>48.000</td>\n",
       "      <td>-581049.812</td>\n",
       "      <td>942076.403</td>\n",
       "      <td>-3504386.000</td>\n",
       "      <td>-611209.250</td>\n",
       "      <td>-151927.000</td>\n",
       "      <td>-37926.000</td>\n",
       "      <td>-833.000</td>\n",
       "    </tr>\n",
       "    <tr>\n",
       "      <th>director_fees</th>\n",
       "      <td>16.000</td>\n",
       "      <td>89822.875</td>\n",
       "      <td>41112.701</td>\n",
       "      <td>3285.000</td>\n",
       "      <td>83674.500</td>\n",
       "      <td>106164.500</td>\n",
       "      <td>112815.000</td>\n",
       "      <td>137864.000</td>\n",
       "    </tr>\n",
       "    <tr>\n",
       "      <th>email_address</th>\n",
       "      <td>0.000</td>\n",
       "      <td>nan</td>\n",
       "      <td>nan</td>\n",
       "      <td>nan</td>\n",
       "      <td>nan</td>\n",
       "      <td>nan</td>\n",
       "      <td>nan</td>\n",
       "      <td>nan</td>\n",
       "    </tr>\n",
       "    <tr>\n",
       "      <th>exercised_stock_options</th>\n",
       "      <td>101.000</td>\n",
       "      <td>2959559.257</td>\n",
       "      <td>5499449.599</td>\n",
       "      <td>3285.000</td>\n",
       "      <td>506765.000</td>\n",
       "      <td>1297049.000</td>\n",
       "      <td>2542813.000</td>\n",
       "      <td>34348384.000</td>\n",
       "    </tr>\n",
       "    <tr>\n",
       "      <th>expenses</th>\n",
       "      <td>94.000</td>\n",
       "      <td>54192.011</td>\n",
       "      <td>46108.377</td>\n",
       "      <td>148.000</td>\n",
       "      <td>22479.000</td>\n",
       "      <td>46547.500</td>\n",
       "      <td>78408.500</td>\n",
       "      <td>228763.000</td>\n",
       "    </tr>\n",
       "    <tr>\n",
       "      <th>from_messages</th>\n",
       "      <td>86.000</td>\n",
       "      <td>608.791</td>\n",
       "      <td>1841.034</td>\n",
       "      <td>12.000</td>\n",
       "      <td>22.750</td>\n",
       "      <td>41.000</td>\n",
       "      <td>145.500</td>\n",
       "      <td>14368.000</td>\n",
       "    </tr>\n",
       "    <tr>\n",
       "      <th>from_poi_to_this_person</th>\n",
       "      <td>86.000</td>\n",
       "      <td>64.895</td>\n",
       "      <td>86.979</td>\n",
       "      <td>0.000</td>\n",
       "      <td>10.000</td>\n",
       "      <td>35.000</td>\n",
       "      <td>72.250</td>\n",
       "      <td>528.000</td>\n",
       "    </tr>\n",
       "    <tr>\n",
       "      <th>from_this_person_to_poi</th>\n",
       "      <td>86.000</td>\n",
       "      <td>41.233</td>\n",
       "      <td>100.073</td>\n",
       "      <td>0.000</td>\n",
       "      <td>1.000</td>\n",
       "      <td>8.000</td>\n",
       "      <td>24.750</td>\n",
       "      <td>609.000</td>\n",
       "    </tr>\n",
       "    <tr>\n",
       "      <th>loan_advances</th>\n",
       "      <td>3.000</td>\n",
       "      <td>27975000.000</td>\n",
       "      <td>46382560.031</td>\n",
       "      <td>400000.000</td>\n",
       "      <td>1200000.000</td>\n",
       "      <td>2000000.000</td>\n",
       "      <td>41762500.000</td>\n",
       "      <td>81525000.000</td>\n",
       "    </tr>\n",
       "    <tr>\n",
       "      <th>long_term_incentive</th>\n",
       "      <td>65.000</td>\n",
       "      <td>746491.200</td>\n",
       "      <td>862917.422</td>\n",
       "      <td>69223.000</td>\n",
       "      <td>275000.000</td>\n",
       "      <td>422158.000</td>\n",
       "      <td>831809.000</td>\n",
       "      <td>5145434.000</td>\n",
       "    </tr>\n",
       "    <tr>\n",
       "      <th>other</th>\n",
       "      <td>92.000</td>\n",
       "      <td>465276.663</td>\n",
       "      <td>1389719.065</td>\n",
       "      <td>2.000</td>\n",
       "      <td>1209.000</td>\n",
       "      <td>51984.500</td>\n",
       "      <td>357577.250</td>\n",
       "      <td>10359729.000</td>\n",
       "    </tr>\n",
       "    <tr>\n",
       "      <th>poi</th>\n",
       "      <td>145.000</td>\n",
       "      <td>0.124</td>\n",
       "      <td>0.331</td>\n",
       "      <td>0.000</td>\n",
       "      <td>0.000</td>\n",
       "      <td>0.000</td>\n",
       "      <td>0.000</td>\n",
       "      <td>1.000</td>\n",
       "    </tr>\n",
       "    <tr>\n",
       "      <th>restricted_stock</th>\n",
       "      <td>109.000</td>\n",
       "      <td>1147424.092</td>\n",
       "      <td>2249770.357</td>\n",
       "      <td>-2604490.000</td>\n",
       "      <td>252055.000</td>\n",
       "      <td>441096.000</td>\n",
       "      <td>985032.000</td>\n",
       "      <td>14761694.000</td>\n",
       "    </tr>\n",
       "    <tr>\n",
       "      <th>restricted_stock_deferred</th>\n",
       "      <td>17.000</td>\n",
       "      <td>621892.824</td>\n",
       "      <td>3845528.350</td>\n",
       "      <td>-1787380.000</td>\n",
       "      <td>-329825.000</td>\n",
       "      <td>-140264.000</td>\n",
       "      <td>-72419.000</td>\n",
       "      <td>15456290.000</td>\n",
       "    </tr>\n",
       "    <tr>\n",
       "      <th>salary</th>\n",
       "      <td>94.000</td>\n",
       "      <td>284087.543</td>\n",
       "      <td>177131.115</td>\n",
       "      <td>477.000</td>\n",
       "      <td>211802.000</td>\n",
       "      <td>258741.000</td>\n",
       "      <td>308606.500</td>\n",
       "      <td>1111258.000</td>\n",
       "    </tr>\n",
       "    <tr>\n",
       "      <th>shared_receipt_with_poi</th>\n",
       "      <td>86.000</td>\n",
       "      <td>1176.465</td>\n",
       "      <td>1178.318</td>\n",
       "      <td>2.000</td>\n",
       "      <td>249.750</td>\n",
       "      <td>740.500</td>\n",
       "      <td>1888.250</td>\n",
       "      <td>5521.000</td>\n",
       "    </tr>\n",
       "    <tr>\n",
       "      <th>to_messages</th>\n",
       "      <td>86.000</td>\n",
       "      <td>2073.860</td>\n",
       "      <td>2582.701</td>\n",
       "      <td>57.000</td>\n",
       "      <td>541.250</td>\n",
       "      <td>1211.000</td>\n",
       "      <td>2634.750</td>\n",
       "      <td>15149.000</td>\n",
       "    </tr>\n",
       "    <tr>\n",
       "      <th>total_payments</th>\n",
       "      <td>124.000</td>\n",
       "      <td>2623421.177</td>\n",
       "      <td>9488105.534</td>\n",
       "      <td>148.000</td>\n",
       "      <td>386380.250</td>\n",
       "      <td>1100246.500</td>\n",
       "      <td>2084662.750</td>\n",
       "      <td>103559793.000</td>\n",
       "    </tr>\n",
       "    <tr>\n",
       "      <th>total_stock_value</th>\n",
       "      <td>125.000</td>\n",
       "      <td>3352073.024</td>\n",
       "      <td>6532883.097</td>\n",
       "      <td>-44093.000</td>\n",
       "      <td>494136.000</td>\n",
       "      <td>1095040.000</td>\n",
       "      <td>2606763.000</td>\n",
       "      <td>49110078.000</td>\n",
       "    </tr>\n",
       "  </tbody>\n",
       "</table>\n",
       "</div>"
      ],
      "text/plain": [
       "                            count         mean          std          min  \\\n",
       "bonus                      81.000  1201773.074  1441679.438    70000.000   \n",
       "deferral_payments          38.000   841602.526  1289322.626  -102500.000   \n",
       "deferred_income            48.000  -581049.812   942076.403 -3504386.000   \n",
       "director_fees              16.000    89822.875    41112.701     3285.000   \n",
       "email_address               0.000          nan          nan          nan   \n",
       "exercised_stock_options   101.000  2959559.257  5499449.599     3285.000   \n",
       "expenses                   94.000    54192.011    46108.377      148.000   \n",
       "from_messages              86.000      608.791     1841.034       12.000   \n",
       "from_poi_to_this_person    86.000       64.895       86.979        0.000   \n",
       "from_this_person_to_poi    86.000       41.233      100.073        0.000   \n",
       "loan_advances               3.000 27975000.000 46382560.031   400000.000   \n",
       "long_term_incentive        65.000   746491.200   862917.422    69223.000   \n",
       "other                      92.000   465276.663  1389719.065        2.000   \n",
       "poi                       145.000        0.124        0.331        0.000   \n",
       "restricted_stock          109.000  1147424.092  2249770.357 -2604490.000   \n",
       "restricted_stock_deferred  17.000   621892.824  3845528.350 -1787380.000   \n",
       "salary                     94.000   284087.543   177131.115      477.000   \n",
       "shared_receipt_with_poi    86.000     1176.465     1178.318        2.000   \n",
       "to_messages                86.000     2073.860     2582.701       57.000   \n",
       "total_payments            124.000  2623421.177  9488105.534      148.000   \n",
       "total_stock_value         125.000  3352073.024  6532883.097   -44093.000   \n",
       "\n",
       "                                  25%         50%          75%           max  \n",
       "bonus                      425000.000  750000.000  1200000.000   8000000.000  \n",
       "deferral_payments           79644.500  221063.500   867211.250   6426990.000  \n",
       "deferred_income           -611209.250 -151927.000   -37926.000      -833.000  \n",
       "director_fees               83674.500  106164.500   112815.000    137864.000  \n",
       "email_address                     nan         nan          nan           nan  \n",
       "exercised_stock_options    506765.000 1297049.000  2542813.000  34348384.000  \n",
       "expenses                    22479.000   46547.500    78408.500    228763.000  \n",
       "from_messages                  22.750      41.000      145.500     14368.000  \n",
       "from_poi_to_this_person        10.000      35.000       72.250       528.000  \n",
       "from_this_person_to_poi         1.000       8.000       24.750       609.000  \n",
       "loan_advances             1200000.000 2000000.000 41762500.000  81525000.000  \n",
       "long_term_incentive        275000.000  422158.000   831809.000   5145434.000  \n",
       "other                        1209.000   51984.500   357577.250  10359729.000  \n",
       "poi                             0.000       0.000        0.000         1.000  \n",
       "restricted_stock           252055.000  441096.000   985032.000  14761694.000  \n",
       "restricted_stock_deferred -329825.000 -140264.000   -72419.000  15456290.000  \n",
       "salary                     211802.000  258741.000   308606.500   1111258.000  \n",
       "shared_receipt_with_poi       249.750     740.500     1888.250      5521.000  \n",
       "to_messages                   541.250    1211.000     2634.750     15149.000  \n",
       "total_payments             386380.250 1100246.500  2084662.750 103559793.000  \n",
       "total_stock_value          494136.000 1095040.000  2606763.000  49110078.000  "
      ]
     },
     "execution_count": 19,
     "metadata": {},
     "output_type": "execute_result"
    }
   ],
   "source": [
    "des=df.describe() # Explore features\n",
    "des.transpose()"
   ]
  },
  {
   "cell_type": "code",
   "execution_count": 20,
   "metadata": {
    "collapsed": false,
    "scrolled": true
   },
   "outputs": [
    {
     "data": {
      "text/html": [
       "<div>\n",
       "<table border=\"1\" class=\"dataframe\">\n",
       "  <thead>\n",
       "    <tr>\n",
       "      <th></th>\n",
       "      <th>bonus</th>\n",
       "      <th>salary</th>\n",
       "      <th>exercised_stock_options</th>\n",
       "      <th>shared_receipt_with_poi</th>\n",
       "      <th>loan_advances</th>\n",
       "      <th>to_messages</th>\n",
       "    </tr>\n",
       "    <tr>\n",
       "      <th></th>\n",
       "      <th>mean</th>\n",
       "      <th>mean</th>\n",
       "      <th>mean</th>\n",
       "      <th>mean</th>\n",
       "      <th>mean</th>\n",
       "      <th>mean</th>\n",
       "    </tr>\n",
       "    <tr>\n",
       "      <th>poi</th>\n",
       "      <th></th>\n",
       "      <th></th>\n",
       "      <th></th>\n",
       "      <th></th>\n",
       "      <th></th>\n",
       "      <th></th>\n",
       "    </tr>\n",
       "  </thead>\n",
       "  <tbody>\n",
       "    <tr>\n",
       "      <th>0.000</th>\n",
       "      <td>986824.923</td>\n",
       "      <td>262151.506</td>\n",
       "      <td>1947752.371</td>\n",
       "      <td>1058.528</td>\n",
       "      <td>1200000.000</td>\n",
       "      <td>2007.111</td>\n",
       "    </tr>\n",
       "    <tr>\n",
       "      <th>1.000</th>\n",
       "      <td>2074999.938</td>\n",
       "      <td>383444.882</td>\n",
       "      <td>10463793.667</td>\n",
       "      <td>1783.000</td>\n",
       "      <td>81525000.000</td>\n",
       "      <td>2417.143</td>\n",
       "    </tr>\n",
       "  </tbody>\n",
       "</table>\n",
       "</div>"
      ],
      "text/plain": [
       "            bonus     salary exercised_stock_options shared_receipt_with_poi  \\\n",
       "             mean       mean                    mean                    mean   \n",
       "poi                                                                            \n",
       "0.000  986824.923 262151.506             1947752.371                1058.528   \n",
       "1.000 2074999.938 383444.882            10463793.667                1783.000   \n",
       "\n",
       "      loan_advances to_messages  \n",
       "               mean        mean  \n",
       "poi                              \n",
       "0.000   1200000.000    2007.111  \n",
       "1.000  81525000.000    2417.143  "
      ]
     },
     "execution_count": 20,
     "metadata": {},
     "output_type": "execute_result"
    }
   ],
   "source": [
    "bypoi=df.groupby(['poi'])\n",
    "bypoi['bonus',\n",
    "    'salary',\n",
    "    'exercised_stock_options',\n",
    "    'shared_receipt_with_poi',\n",
    "    'loan_advances',\n",
    "    'to_messages'].agg([np.mean])"
   ]
  },
  {
   "cell_type": "markdown",
   "metadata": {},
   "source": [
    " There is an outlier called \"THE TRAVEL AGENCY IN THE PARK\", which is not an employee. We will simply remove it."
   ]
  },
  {
   "cell_type": "code",
   "execution_count": 21,
   "metadata": {
    "collapsed": false
   },
   "outputs": [
    {
     "data": {
      "text/plain": [
       "{'bonus': 'NaN',\n",
       " 'deferral_payments': 'NaN',\n",
       " 'deferred_income': 'NaN',\n",
       " 'director_fees': 'NaN',\n",
       " 'email_address': 'NaN',\n",
       " 'exercised_stock_options': 'NaN',\n",
       " 'expenses': 'NaN',\n",
       " 'from_messages': 'NaN',\n",
       " 'from_poi_to_this_person': 'NaN',\n",
       " 'from_this_person_to_poi': 'NaN',\n",
       " 'loan_advances': 'NaN',\n",
       " 'long_term_incentive': 'NaN',\n",
       " 'other': 362096,\n",
       " 'poi': False,\n",
       " 'restricted_stock': 'NaN',\n",
       " 'restricted_stock_deferred': 'NaN',\n",
       " 'salary': 'NaN',\n",
       " 'shared_receipt_with_poi': 'NaN',\n",
       " 'to_messages': 'NaN',\n",
       " 'total_payments': 362096,\n",
       " 'total_stock_value': 'NaN'}"
      ]
     },
     "execution_count": 21,
     "metadata": {},
     "output_type": "execute_result"
    }
   ],
   "source": [
    "# Remove 'Total'\n",
    "data_dict.pop('THE TRAVEL AGENCY IN THE PARK','not found')"
   ]
  },
  {
   "cell_type": "markdown",
   "metadata": {},
   "source": [
    "###  (3) Visualize Outliers\n",
    "\n",
    "We will plots histgrams to check each feature for outliers."
   ]
  },
  {
   "cell_type": "code",
   "execution_count": 22,
   "metadata": {
    "collapsed": false
   },
   "outputs": [
    {
     "data": {
      "image/png": "[encoded data removed]",
      "text/plain": [
       "<matplotlib.figure.Figure at 0xbd3f9e8>"
      ]
     },
     "metadata": {},
     "output_type": "display_data"
    }
   ],
   "source": [
    "# This creates a canvas of size 15 points width and 30 points height\n",
    "fig = plt.figure(figsize=(15, 30))\n",
    "\n",
    "for idx, feature in enumerate(features_to_test):\n",
    "    # This means: Divide that canvas to 6 rows, 3 columns,\n",
    "    # and at idx+1 position (since subplot is base-1), draw our plot.\n",
    "    ax = plt.subplot(6,4, idx+1)\n",
    "    \n",
    "    plt.title(feature)\n",
    "    plt.xticks(rotation='vertical')\n",
    "    \n",
    "    # hspace here sets space between rows.\n",
    "    # http://matplotlib.org/api/figure_api.html#matplotlib.figure.SubplotParams\n",
    "    plt.subplots_adjust(hspace=.6) \n",
    "    \n",
    "    ax.hist(data_to_test[:,idx])"
   ]
  },
  {
   "cell_type": "markdown",
   "metadata": {},
   "source": [
    "As you can see from above histgrams, all of them are very skewed and have suspicious data. We will look at them case by case. The following features are very suspicous:\n",
    "\n",
    "- Total payments: a few values are way bigger than the rest\n",
    "- Loan advances: suspicoud large tails\n",
    "- Restricted stock deferred: negative values occurred\n",
    "- Total stock value\n",
    "\n",
    "We will check them one by one later."
   ]
  },
  {
   "cell_type": "code",
   "execution_count": 23,
   "metadata": {
    "collapsed": true
   },
   "outputs": [],
   "source": [
    "def show_largest_five(data_dict, features, feature):\n",
    "    # What are the 5 largest points, sorted by x?\n",
    "    print \"5 largest\", feature\n",
    "    sorted_list = sorted(data_dict.iteritems(), \n",
    "                 key=lambda (key, val): int(0 if val[feature] == 'NaN' else val[feature]), reverse=True)[0:5]\n",
    "    print [(i[0]+ \"(\" + ('poi' if i[1]['poi'] else 'not poi') + \"): \"+ str(i[1][feature])) for i in sorted_list]"
   ]
  },
  {
   "cell_type": "code",
   "execution_count": 24,
   "metadata": {
    "collapsed": false,
    "scrolled": true
   },
   "outputs": [
    {
     "name": "stdout",
     "output_type": "stream",
     "text": [
      "5 largest poi\n",
      "['HANNON KEVIN P(poi): True', 'COLWELL WESLEY(poi): True', 'RIEKER PAULA H(poi): True', 'KOPPER MICHAEL J(poi): True', 'SHELBY REX(poi): True']\n",
      "\n",
      "5 largest salary\n",
      "['SKILLING JEFFREY K(poi): 1111258', 'LAY KENNETH L(poi): 1072321', 'FREVERT MARK A(not poi): 1060932', 'PICKERING MARK R(not poi): 655037', 'WHALLEY LAWRENCE G(not poi): 510364']\n",
      "\n",
      "5 largest to_messages\n",
      "['SHAPIRO RICHARD S(not poi): 15149', 'KEAN STEVEN J(not poi): 12754', 'KITCHEN LOUISE(not poi): 8305', 'BELDEN TIMOTHY N(poi): 7991', 'BECK SALLY W(not poi): 7315']\n",
      "\n",
      "5 largest deferral_payments\n",
      "['FREVERT MARK A(not poi): 6426990', 'HORTON STANLEY C(not poi): 3131860', 'HUMPHREY GENE E(not poi): 2964506', 'ALLEN PHILLIP K(not poi): 2869717', 'HAEDICKE MARK E(not poi): 2157527']\n",
      "\n",
      "5 largest total_payments\n",
      "['LAY KENNETH L(poi): 103559793', 'FREVERT MARK A(not poi): 17252530', 'BHATNAGAR SANJAY(not poi): 15456290', 'LAVORATO JOHN J(not poi): 10425757', 'SKILLING JEFFREY K(poi): 8682716']\n",
      "\n",
      "5 largest exercised_stock_options\n",
      "['LAY KENNETH L(poi): 34348384', 'HIRKO JOSEPH(poi): 30766064', 'RICE KENNETH D(poi): 19794175', 'SKILLING JEFFREY K(poi): 19250000', 'PAI LOU L(not poi): 15364167']\n",
      "\n",
      "5 largest bonus\n",
      "['LAVORATO JOHN J(not poi): 8000000', 'LAY KENNETH L(poi): 7000000', 'SKILLING JEFFREY K(poi): 5600000', 'BELDEN TIMOTHY N(poi): 5249999', 'ALLEN PHILLIP K(not poi): 4175000']\n",
      "\n",
      "5 largest restricted_stock\n",
      "['LAY KENNETH L(poi): 14761694', 'WHITE JR THOMAS E(not poi): 13847074', 'PAI LOU L(not poi): 8453763', 'SKILLING JEFFREY K(poi): 6843672', 'FREVERT MARK A(not poi): 4188667']\n",
      "\n",
      "5 largest shared_receipt_with_poi\n",
      "['BELDEN TIMOTHY N(poi): 5521', 'SHAPIRO RICHARD S(not poi): 4527', 'LAVORATO JOHN J(not poi): 3962', 'WHALLEY LAWRENCE G(not poi): 3920', 'KITCHEN LOUISE(not poi): 3669']\n",
      "\n",
      "5 largest restricted_stock_deferred\n",
      "['BHATNAGAR SANJAY(not poi): 15456290', 'BELFER ROBERT(not poi): 44093', 'METTS MARK(not poi): NaN', 'BAXTER JOHN C(not poi): NaN', 'ELLIOTT STEVEN(not poi): NaN']\n",
      "\n",
      "5 largest total_stock_value\n",
      "['LAY KENNETH L(poi): 49110078', 'HIRKO JOSEPH(poi): 30766064', 'SKILLING JEFFREY K(poi): 26093672', 'PAI LOU L(not poi): 23817930', 'RICE KENNETH D(poi): 22542539']\n",
      "\n",
      "5 largest expenses\n",
      "['MCCLELLAN GEORGE(not poi): 228763', 'URQUHART JOHN A(not poi): 228656', 'SHANKMAN JEFFREY A(not poi): 178979', 'SHAPIRO RICHARD S(not poi): 137767', 'MCMAHON JEFFREY(not poi): 137108']\n",
      "\n",
      "5 largest loan_advances\n",
      "['LAY KENNETH L(poi): 81525000', 'FREVERT MARK A(not poi): 2000000', 'PICKERING MARK R(not poi): 400000', 'METTS MARK(not poi): NaN', 'BAXTER JOHN C(not poi): NaN']\n",
      "\n",
      "5 largest from_messages\n",
      "['KAMINSKI WINCENTY J(not poi): 14368', 'KEAN STEVEN J(not poi): 6759', 'BECK SALLY W(not poi): 4343', 'DELAINEY DAVID W(poi): 3069', 'MCCONNELL MICHAEL S(not poi): 2742']\n",
      "\n",
      "5 largest other\n",
      "['LAY KENNETH L(poi): 10359729', 'FREVERT MARK A(not poi): 7427621', 'MARTIN AMANDA K(not poi): 2818454', 'BAXTER JOHN C(not poi): 2660303', 'SHERRIFF JOHN R(not poi): 1852186']\n",
      "\n",
      "5 largest from_this_person_to_poi\n",
      "['DELAINEY DAVID W(poi): 609', 'LAVORATO JOHN J(not poi): 411', 'KEAN STEVEN J(not poi): 387', 'BECK SALLY W(not poi): 386', 'KITCHEN LOUISE(not poi): 194']\n",
      "\n",
      "5 largest director_fees\n",
      "['BHATNAGAR SANJAY(not poi): 137864', 'SAVAGE FRANK(not poi): 125034', 'GRAMM WENDY L(not poi): 119292', 'BLAKE JR. NORMAN P(not poi): 113784', 'LEMAISTRE CHARLES(not poi): 112492']\n",
      "\n",
      "5 largest deferred_income\n",
      "['METTS MARK(not poi): NaN', 'CORDES WILLIAM R(not poi): NaN', 'MORDAUNT KRISTINA M(not poi): NaN', 'MEYER ROCKFORD G(not poi): NaN', 'MCMAHON JEFFREY(not poi): NaN']\n",
      "\n",
      "5 largest long_term_incentive\n",
      "['MARTIN AMANDA K(not poi): 5145434', 'LAY KENNETH L(poi): 3600000', 'ECHOLS JOHN B(not poi): 2234774', 'LAVORATO JOHN J(not poi): 2035380', 'SKILLING JEFFREY K(poi): 1920000']\n",
      "\n",
      "5 largest from_poi_to_this_person\n",
      "['LAVORATO JOHN J(not poi): 528', 'DIETRICH JANET R(not poi): 305', 'KITCHEN LOUISE(not poi): 251', 'FREVERT MARK A(not poi): 242', 'COLWELL WESLEY(poi): 240']\n",
      "\n"
     ]
    }
   ],
   "source": [
    "for feature in features_to_test:\n",
    "    show_largest_five(data_dict,features_to_test,feature)\n",
    "    print"
   ]
  },
  {
   "cell_type": "markdown",
   "metadata": {},
   "source": [
    "For the largest 5 values in all the feature there are two types of pattern, either most ourliers are poi or not related with poi, which shows no suspicion for outlier. restricted_stock_deferred could be an outlier, but we can't really tell at the moment,because the largest value does not belong to"
   ]
  },
  {
   "cell_type": "markdown",
   "metadata": {},
   "source": [
    "### (4) Cross reference with the insider pay PDF.\n",
    "\n",
    "From the pdf, we can find that there are two groups of insider pays:\n",
    "\n",
    "Total_payments, which is a combination of:\n",
    "- salary\n",
    "- bonus\n",
    "- director_fees\n",
    "- deferral_payments\n",
    "- deferred_income\n",
    "- loan_advances\n",
    "- long_term_incentive\n",
    "- expenses\n",
    "- other\n",
    "- salary\n",
    "\n",
    "Total_stock_value, a combination of:\n",
    "- restricted_stock\n",
    "- exercised_stock_options\n",
    "- restricted_stock_deferred\n",
    "\n",
    "We will check if there is any input errors by sum them up and compare."
   ]
  },
  {
   "cell_type": "code",
   "execution_count": 25,
   "metadata": {
    "collapsed": false,
    "scrolled": true
   },
   "outputs": [
    {
     "name": "stdout",
     "output_type": "stream",
     "text": [
      "                 name    combined  total_payments equals?   poi\n",
      "0     ALLEN PHILLIP K 4484442.000     4484442.000    True 0.000\n",
      "1       BADUM JAMES P  182466.000      182466.000    True 0.000\n",
      "2  BANNANTINE JAMES M  916197.000      916197.000    True 0.000\n",
      "3       BAXTER JOHN C 5634343.000     5634343.000    True 0.000\n",
      "4      BAY FRANKLIN R  827696.000      827696.000    True 0.000\n",
      "143  out of  145\n",
      "Total difference between combined and total_payments:  15382277.0\n",
      "\n",
      "\n",
      "Which data points are different?\n",
      "                name   combined  total_payments equals?   poi\n",
      "8      BELFER ROBERT -99215.000      102500.000   False 0.000\n",
      "11  BHATNAGAR SANJAY 275728.000    15456290.000   False 0.000\n"
     ]
    },
    {
     "data": {
      "text/html": [
       "<div>\n",
       "<table border=\"1\" class=\"dataframe\">\n",
       "  <thead>\n",
       "    <tr style=\"text-align: right;\">\n",
       "      <th></th>\n",
       "      <th>name</th>\n",
       "      <th>bonus</th>\n",
       "      <th>deferral_payments</th>\n",
       "      <th>deferred_income</th>\n",
       "      <th>director_fees</th>\n",
       "      <th>email_address</th>\n",
       "      <th>exercised_stock_options</th>\n",
       "      <th>expenses</th>\n",
       "      <th>from_messages</th>\n",
       "      <th>from_poi_to_this_person</th>\n",
       "      <th>...</th>\n",
       "      <th>long_term_incentive</th>\n",
       "      <th>other</th>\n",
       "      <th>poi</th>\n",
       "      <th>restricted_stock</th>\n",
       "      <th>restricted_stock_deferred</th>\n",
       "      <th>salary</th>\n",
       "      <th>shared_receipt_with_poi</th>\n",
       "      <th>to_messages</th>\n",
       "      <th>total_payments</th>\n",
       "      <th>total_stock_value</th>\n",
       "    </tr>\n",
       "  </thead>\n",
       "  <tbody>\n",
       "    <tr>\n",
       "      <th>8</th>\n",
       "      <td>BELFER ROBERT</td>\n",
       "      <td>0.000</td>\n",
       "      <td>-102500.000</td>\n",
       "      <td>0.000</td>\n",
       "      <td>3285.000</td>\n",
       "      <td>0.000</td>\n",
       "      <td>3285.000</td>\n",
       "      <td>0.000</td>\n",
       "      <td>0.000</td>\n",
       "      <td>0.000</td>\n",
       "      <td>...</td>\n",
       "      <td>0.000</td>\n",
       "      <td>0.000</td>\n",
       "      <td>0.000</td>\n",
       "      <td>0.000</td>\n",
       "      <td>44093.000</td>\n",
       "      <td>0.000</td>\n",
       "      <td>0.000</td>\n",
       "      <td>0.000</td>\n",
       "      <td>102500.000</td>\n",
       "      <td>-44093.000</td>\n",
       "    </tr>\n",
       "    <tr>\n",
       "      <th>11</th>\n",
       "      <td>BHATNAGAR SANJAY</td>\n",
       "      <td>0.000</td>\n",
       "      <td>0.000</td>\n",
       "      <td>0.000</td>\n",
       "      <td>137864.000</td>\n",
       "      <td>0.000</td>\n",
       "      <td>2604490.000</td>\n",
       "      <td>0.000</td>\n",
       "      <td>29.000</td>\n",
       "      <td>0.000</td>\n",
       "      <td>...</td>\n",
       "      <td>0.000</td>\n",
       "      <td>137864.000</td>\n",
       "      <td>0.000</td>\n",
       "      <td>-2604490.000</td>\n",
       "      <td>15456290.000</td>\n",
       "      <td>0.000</td>\n",
       "      <td>463.000</td>\n",
       "      <td>523.000</td>\n",
       "      <td>15456290.000</td>\n",
       "      <td>0.000</td>\n",
       "    </tr>\n",
       "  </tbody>\n",
       "</table>\n",
       "<p>2 rows × 22 columns</p>\n",
       "</div>"
      ],
      "text/plain": [
       "                name  bonus  deferral_payments  deferred_income  \\\n",
       "8      BELFER ROBERT  0.000        -102500.000            0.000   \n",
       "11  BHATNAGAR SANJAY  0.000              0.000            0.000   \n",
       "\n",
       "    director_fees  email_address  exercised_stock_options  expenses  \\\n",
       "8        3285.000          0.000                 3285.000     0.000   \n",
       "11     137864.000          0.000              2604490.000     0.000   \n",
       "\n",
       "    from_messages  from_poi_to_this_person        ...          \\\n",
       "8           0.000                    0.000        ...           \n",
       "11         29.000                    0.000        ...           \n",
       "\n",
       "    long_term_incentive      other   poi  restricted_stock  \\\n",
       "8                 0.000      0.000 0.000             0.000   \n",
       "11                0.000 137864.000 0.000      -2604490.000   \n",
       "\n",
       "    restricted_stock_deferred  salary  shared_receipt_with_poi  to_messages  \\\n",
       "8                   44093.000   0.000                    0.000        0.000   \n",
       "11               15456290.000   0.000                  463.000      523.000   \n",
       "\n",
       "    total_payments  total_stock_value  \n",
       "8       102500.000         -44093.000  \n",
       "11    15456290.000              0.000  \n",
       "\n",
       "[2 rows x 22 columns]"
      ]
     },
     "execution_count": 25,
     "metadata": {},
     "output_type": "execute_result"
    }
   ],
   "source": [
    "df2 = pd.DataFrame()\n",
    "\n",
    "df = df.fillna(0)\n",
    "df2['name'] = df['name']\n",
    "df2['combined'] = (\n",
    "    df['bonus'] + \n",
    "    df['director_fees'] +\n",
    "    df['deferral_payments'] +\n",
    "    df['deferred_income'] +\n",
    "    df['loan_advances'] +\n",
    "    df['long_term_incentive'] +\n",
    "    df['expenses'] +\n",
    "    df['other'] +\n",
    "    df['salary']\n",
    ")\n",
    "df2['total_payments'] = df['total_payments']\n",
    "df2['equals?'] = (df2['combined'] == df2['total_payments'])\n",
    "df2['poi'] = df['poi']\n",
    "print df2.head(5)\n",
    "print np.sum(df2['equals?']), \" out of \", len(df2)\n",
    "print \"Total difference between combined and total_payments: \", (np.sum(df2['total_payments']) - np.sum(df2['combined']))\n",
    "print \"\\n\"\n",
    "print \"Which data points are different?\"\n",
    "print df2[df2['equals?'] == False]\n",
    "df[df['name'].isin(df2[df2['equals?'] == False]['name'].tolist())]"
   ]
  },
  {
   "cell_type": "code",
   "execution_count": 26,
   "metadata": {
    "collapsed": false,
    "scrolled": false
   },
   "outputs": [
    {
     "name": "stdout",
     "output_type": "stream",
     "text": [
      "                 name     combined  total_stock_value equals?   poi\n",
      "0     ALLEN PHILLIP K  1729541.000        1729541.000    True 0.000\n",
      "1       BADUM JAMES P   257817.000         257817.000    True 0.000\n",
      "2  BANNANTINE JAMES M  5243487.000        5243487.000    True 0.000\n",
      "3       BAXTER JOHN C 10623258.000       10623258.000    True 0.000\n",
      "4      BAY FRANKLIN R    63014.000          63014.000    True 0.000\n",
      "143  out of  145\n",
      "Total difference between combined and total_stock_value:  -15547761.0\n",
      "\n",
      "\n",
      "Which data points are different?\n",
      "                name     combined  total_stock_value equals?   poi\n",
      "8      BELFER ROBERT    47378.000         -44093.000   False 0.000\n",
      "11  BHATNAGAR SANJAY 15456290.000              0.000   False 0.000\n"
     ]
    },
    {
     "data": {
      "text/html": [
       "<div>\n",
       "<table border=\"1\" class=\"dataframe\">\n",
       "  <thead>\n",
       "    <tr style=\"text-align: right;\">\n",
       "      <th></th>\n",
       "      <th>name</th>\n",
       "      <th>bonus</th>\n",
       "      <th>deferral_payments</th>\n",
       "      <th>deferred_income</th>\n",
       "      <th>director_fees</th>\n",
       "      <th>email_address</th>\n",
       "      <th>exercised_stock_options</th>\n",
       "      <th>expenses</th>\n",
       "      <th>from_messages</th>\n",
       "      <th>from_poi_to_this_person</th>\n",
       "      <th>...</th>\n",
       "      <th>long_term_incentive</th>\n",
       "      <th>other</th>\n",
       "      <th>poi</th>\n",
       "      <th>restricted_stock</th>\n",
       "      <th>restricted_stock_deferred</th>\n",
       "      <th>salary</th>\n",
       "      <th>shared_receipt_with_poi</th>\n",
       "      <th>to_messages</th>\n",
       "      <th>total_payments</th>\n",
       "      <th>total_stock_value</th>\n",
       "    </tr>\n",
       "  </thead>\n",
       "  <tbody>\n",
       "    <tr>\n",
       "      <th>8</th>\n",
       "      <td>BELFER ROBERT</td>\n",
       "      <td>0.000</td>\n",
       "      <td>-102500.000</td>\n",
       "      <td>0.000</td>\n",
       "      <td>3285.000</td>\n",
       "      <td>0.000</td>\n",
       "      <td>3285.000</td>\n",
       "      <td>0.000</td>\n",
       "      <td>0.000</td>\n",
       "      <td>0.000</td>\n",
       "      <td>...</td>\n",
       "      <td>0.000</td>\n",
       "      <td>0.000</td>\n",
       "      <td>0.000</td>\n",
       "      <td>0.000</td>\n",
       "      <td>44093.000</td>\n",
       "      <td>0.000</td>\n",
       "      <td>0.000</td>\n",
       "      <td>0.000</td>\n",
       "      <td>102500.000</td>\n",
       "      <td>-44093.000</td>\n",
       "    </tr>\n",
       "    <tr>\n",
       "      <th>11</th>\n",
       "      <td>BHATNAGAR SANJAY</td>\n",
       "      <td>0.000</td>\n",
       "      <td>0.000</td>\n",
       "      <td>0.000</td>\n",
       "      <td>137864.000</td>\n",
       "      <td>0.000</td>\n",
       "      <td>2604490.000</td>\n",
       "      <td>0.000</td>\n",
       "      <td>29.000</td>\n",
       "      <td>0.000</td>\n",
       "      <td>...</td>\n",
       "      <td>0.000</td>\n",
       "      <td>137864.000</td>\n",
       "      <td>0.000</td>\n",
       "      <td>-2604490.000</td>\n",
       "      <td>15456290.000</td>\n",
       "      <td>0.000</td>\n",
       "      <td>463.000</td>\n",
       "      <td>523.000</td>\n",
       "      <td>15456290.000</td>\n",
       "      <td>0.000</td>\n",
       "    </tr>\n",
       "  </tbody>\n",
       "</table>\n",
       "<p>2 rows × 22 columns</p>\n",
       "</div>"
      ],
      "text/plain": [
       "                name  bonus  deferral_payments  deferred_income  \\\n",
       "8      BELFER ROBERT  0.000        -102500.000            0.000   \n",
       "11  BHATNAGAR SANJAY  0.000              0.000            0.000   \n",
       "\n",
       "    director_fees  email_address  exercised_stock_options  expenses  \\\n",
       "8        3285.000          0.000                 3285.000     0.000   \n",
       "11     137864.000          0.000              2604490.000     0.000   \n",
       "\n",
       "    from_messages  from_poi_to_this_person        ...          \\\n",
       "8           0.000                    0.000        ...           \n",
       "11         29.000                    0.000        ...           \n",
       "\n",
       "    long_term_incentive      other   poi  restricted_stock  \\\n",
       "8                 0.000      0.000 0.000             0.000   \n",
       "11                0.000 137864.000 0.000      -2604490.000   \n",
       "\n",
       "    restricted_stock_deferred  salary  shared_receipt_with_poi  to_messages  \\\n",
       "8                   44093.000   0.000                    0.000        0.000   \n",
       "11               15456290.000   0.000                  463.000      523.000   \n",
       "\n",
       "    total_payments  total_stock_value  \n",
       "8       102500.000         -44093.000  \n",
       "11    15456290.000              0.000  \n",
       "\n",
       "[2 rows x 22 columns]"
      ]
     },
     "execution_count": 26,
     "metadata": {},
     "output_type": "execute_result"
    }
   ],
   "source": [
    "# dataframe to check total_stock_value\n",
    "df3 = pd.DataFrame()\n",
    "\n",
    "df = df.fillna(0)\n",
    "df3['name'] = df['name']\n",
    "df3['combined'] = (\n",
    "    df['restricted_stock'] +\n",
    "    df['exercised_stock_options'] +\n",
    "    df['restricted_stock_deferred']\n",
    ")\n",
    "df3['total_stock_value'] = df['total_stock_value']\n",
    "df3['equals?'] = (df3['combined'] == df3['total_stock_value'])\n",
    "df3['poi'] = df['poi']\n",
    "print df3.head(5)\n",
    "print np.sum(df3['equals?']), \" out of \", len(df3)\n",
    "print \"Total difference between combined and total_stock_value: \", (np.sum(df3['total_stock_value']) - np.sum(df3['combined']))\n",
    "print \"\\n\"\n",
    "print \"Which data points are different?\"\n",
    "print df3[df3['equals?'] == False]\n",
    "df[df['name'].isin(df3[df3['equals?'] == False]['name'].tolist())]"
   ]
  },
  {
   "cell_type": "markdown",
   "metadata": {},
   "source": [
    "We will update the two persons data below. It looks lkie a typo in the data."
   ]
  },
  {
   "cell_type": "code",
   "execution_count": 27,
   "metadata": {
    "collapsed": true
   },
   "outputs": [],
   "source": [
    "data_dict_updated = data_dict\n",
    "data_dict_updated['BELFER ROBERT']['deferred_income'] = -102500\n",
    "data_dict_updated['BELFER ROBERT']['deferral_payments'] = 'NaN'\n",
    "data_dict_updated['BELFER ROBERT']['expenses'] = 3285\n",
    "data_dict_updated['BELFER ROBERT']['director_fees'] = 102500\n",
    "data_dict_updated['BELFER ROBERT']['total_payments'] = 3285\n",
    "data_dict_updated['BELFER ROBERT']['exercised_stock_options'] = 'NaN'\n",
    "data_dict_updated['BELFER ROBERT']['restricted_stock'] = 44093\n",
    "data_dict_updated['BELFER ROBERT']['restricted_stock_deferred'] = -44093\n",
    "data_dict_updated['BELFER ROBERT']['total_stock_value'] = 'NaN'\n",
    "\n",
    "data_dict_updated['BHATNAGAR SANJAY']['other'] = 'NaN'\n",
    "data_dict_updated['BHATNAGAR SANJAY']['expenses'] = 137864\n",
    "data_dict_updated['BHATNAGAR SANJAY']['director_fees'] = 'NaN'\n",
    "data_dict_updated['BHATNAGAR SANJAY']['total_payments'] = 137864\n",
    "data_dict_updated['BHATNAGAR SANJAY']['exercised_stock_options'] = 15456290\n",
    "data_dict_updated['BHATNAGAR SANJAY']['restricted_stock'] = 2604490\n",
    "data_dict_updated['BHATNAGAR SANJAY']['restricted_stock_deferred'] = -2604490\n",
    "data_dict_updated['BHATNAGAR SANJAY']['total_stock_value'] = 15456290"
   ]
  },
  {
   "cell_type": "markdown",
   "metadata": {},
   "source": [
    "###   Create My Data"
   ]
  },
  {
   "cell_type": "code",
   "execution_count": 28,
   "metadata": {
    "collapsed": true
   },
   "outputs": [],
   "source": [
    "my_dataset = data_dict_updated"
   ]
  },
  {
   "cell_type": "markdown",
   "metadata": {},
   "source": [
    "# 3. Optimize Feature Selection/Engineering\n",
    "\n"
   ]
  },
  {
   "cell_type": "markdown",
   "metadata": {},
   "source": [
    "## 3.1 Create new features\n"
   ]
  },
  {
   "cell_type": "markdown",
   "metadata": {
    "collapsed": true
   },
   "source": [
    "We will create two new features that could help us identify potential poi.\n",
    "\n",
    "1. poi_from_ratio( from_this_person_to_poi_ratio):Messages sent from this person to pois compared to all messages sent by this person\n",
    "2. poi_to_ratio(from_poi_to_this_person_ratio): Messages received by this person from pois compared to all messages received by this person."
   ]
  },
  {
   "cell_type": "code",
   "execution_count": 29,
   "metadata": {
    "collapsed": true
   },
   "outputs": [],
   "source": [
    "#create new features\n",
    "for key, item in my_dataset.iteritems():\n",
    "   \n",
    "    ### add poi_from_ratio\n",
    "    if item['from_messages'] != \"NaN\" and item['from_poi_to_this_person'] != \"NaN\":\n",
    "        item['poi_from_ratio'] = float(item['from_poi_to_this_person']) / item['from_messages']\n",
    "    else:\n",
    "        item['poi_from_ratio'] = \"NaN\"\n",
    "        \n",
    "    ### add poi_to_ratio\n",
    "    if item[\"to_messages\"] != \"NaN\" and item[\"from_this_person_to_poi\"] != \"NaN\":\n",
    "        item[\"poi_to_ratio\"] = float(item[\"from_this_person_to_poi\"]) / item[\"to_messages\"]\n",
    "    else:\n",
    "        item[\"poi_to_ratio\"] = \"NaN\""
   ]
  },
  {
   "cell_type": "code",
   "execution_count": 30,
   "metadata": {
    "collapsed": false,
    "scrolled": false
   },
   "outputs": [
    {
     "name": "stdout",
     "output_type": "stream",
     "text": [
      "poi_from_ratio\n",
      "count   86.000\n",
      "mean     1.108\n",
      "std      2.026\n",
      "min      0.000\n",
      "25%      0.046\n",
      "50%      0.385\n",
      "75%      1.154\n",
      "max     11.524\n",
      "Name: poi_from_ratio, dtype: float64\n",
      "\n",
      "poi_to_ratio\n",
      "count   86.000\n",
      "mean     0.017\n",
      "std      0.031\n",
      "min      0.000\n",
      "25%      0.001\n",
      "50%      0.006\n",
      "75%      0.020\n",
      "max      0.197\n",
      "Name: poi_to_ratio, dtype: float64\n"
     ]
    },
    {
     "name": "stderr",
     "output_type": "stream",
     "text": [
      "C:\\Users\\leland\\Anaconda2\\lib\\site-packages\\ipykernel\\__main__.py:6: FutureWarning: convert_objects is deprecated.  Use the data-type specific converters pd.to_datetime, pd.to_timedelta and pd.to_numeric.\n"
     ]
    }
   ],
   "source": [
    "# summary statistics for new features\n",
    "\n",
    "df_newfeature=to_pandas(my_dataset)\n",
    "print('poi_from_ratio')\n",
    "print( df_newfeature['poi_from_ratio'].describe())\n",
    "print\n",
    "print('poi_to_ratio')\n",
    "print( df_newfeature['poi_to_ratio'].describe())"
   ]
  },
  {
   "cell_type": "markdown",
   "metadata": {},
   "source": [
    "As we can see, there are 86 people who have email communications with our poi, which could be an indicator of possible poi"
   ]
  },
  {
   "cell_type": "code",
   "execution_count": 31,
   "metadata": {
    "collapsed": true
   },
   "outputs": [],
   "source": [
    "# Add new features to feature list test\n",
    "features_to_test +=[\"poi_from_ratio\", \"poi_to_ratio\"]"
   ]
  },
  {
   "cell_type": "markdown",
   "metadata": {},
   "source": [
    "## 3.2 Scale Features\n",
    "\n",
    "We will first scale the feature before we do the features selections. The scale might affect the feature selection methods so it is necessary to scale first."
   ]
  },
  {
   "cell_type": "code",
   "execution_count": 32,
   "metadata": {
    "collapsed": true
   },
   "outputs": [],
   "source": [
    "features_list=features_to_test\n",
    "### Extract features and labels from dataset for local testing\n",
    "data = featureFormat(my_dataset, features_list, sort_keys = True)\n",
    "labels, features = targetFeatureSplit(data)"
   ]
  },
  {
   "cell_type": "code",
   "execution_count": 33,
   "metadata": {
    "collapsed": true
   },
   "outputs": [],
   "source": [
    "# scale features\n",
    "from sklearn.preprocessing import scale\n",
    "features = scale(features)"
   ]
  },
  {
   "cell_type": "markdown",
   "metadata": {},
   "source": [
    " ## 3.3 Select Features \n",
    " \n",
    " We will first examine the relationship among variables and then use feature selection methods."
   ]
  },
  {
   "cell_type": "markdown",
   "metadata": {},
   "source": [
    "### Correlations"
   ]
  },
  {
   "cell_type": "code",
   "execution_count": 34,
   "metadata": {
    "collapsed": false,
    "scrolled": false
   },
   "outputs": [
    {
     "data": {
      "text/plain": [
       "<matplotlib.text.Text at 0xe773cc0>"
      ]
     },
     "execution_count": 34,
     "metadata": {},
     "output_type": "execute_result"
    },
    {
     "data": {
      "image/png": "[encoded data removed]",
      "text/plain": [
       "<matplotlib.figure.Figure at 0xbd3f710>"
      ]
     },
     "metadata": {},
     "output_type": "display_data"
    }
   ],
   "source": [
    "# correlation\n",
    "fig = plt.figure(figsize=(15, 15))\n",
    "\n",
    "corr=df_newfeature.corr()\n",
    "sns.heatmap(corr, \n",
    "            xticklabels=corr.columns.values,\n",
    "            yticklabels=corr.columns.values)   # Similar:plt.matshow(dt.corr())\n",
    "\n",
    "plt.title('The correlation plot')"
   ]
  },
  {
   "cell_type": "markdown",
   "metadata": {},
   "source": [
    "- email_address : It looks like it is unrelated to almost all other features. We decided to remove it.\n",
    "- stock_salary_ratio: It has weak relationship with other variables (including poi) too, so we will remove it. "
   ]
  },
  {
   "cell_type": "markdown",
   "metadata": {},
   "source": [
    "### Kbest"
   ]
  },
  {
   "cell_type": "code",
   "execution_count": 35,
   "metadata": {
    "collapsed": true
   },
   "outputs": [],
   "source": [
    "from sklearn.feature_selection import SelectKBest\n",
    "k_best = SelectKBest(k = 7)\n",
    "k_best_features = k_best.fit_transform(features, labels)"
   ]
  },
  {
   "cell_type": "code",
   "execution_count": 36,
   "metadata": {
    "collapsed": true
   },
   "outputs": [],
   "source": [
    "k_best_result = zip(features_list[1:], k_best.scores_, k_best.get_support())\n",
    "k_best_result.sort(key=lambda value:value[1], reverse=True)"
   ]
  },
  {
   "cell_type": "code",
   "execution_count": 37,
   "metadata": {
    "collapsed": false
   },
   "outputs": [
    {
     "data": {
      "text/plain": [
       "[('total_stock_value', 22.510549090242062, True),\n",
       " ('exercised_stock_options', 22.348975407306224, True),\n",
       " ('bonus', 20.792252047181535, True),\n",
       " ('salary', 18.289684043404495, True),\n",
       " ('deferred_income', 11.424891485418353, True),\n",
       " ('long_term_incentive', 9.9221860131898119, True),\n",
       " ('total_payments', 9.2838736184273731, True),\n",
       " ('restricted_stock', 8.8254422199164662, False),\n",
       " ('shared_receipt_with_poi', 8.5894207316823685, False),\n",
       " ('loan_advances', 7.1840556582887265, False),\n",
       " ('expenses', 5.4189001894070339, False),\n",
       " ('from_poi_to_this_person', 5.243449713374944, False),\n",
       " ('poi_from_ratio', 5.1239461527568961, False),\n",
       " ('other', 4.2024363002712297, False),\n",
       " ('poi_to_ratio', 4.0946533095769562, False),\n",
       " ('from_this_person_to_poi', 2.382612108227677, False),\n",
       " ('director_fees', 2.131483992461205, False),\n",
       " ('to_messages', 1.6463411294420078, False),\n",
       " ('restricted_stock_deferred', 0.76814634478713084, False),\n",
       " ('deferral_payments', 0.22885961902145854, False),\n",
       " ('from_messages', 0.16970094762175483, False)]"
      ]
     },
     "execution_count": 37,
     "metadata": {},
     "output_type": "execute_result"
    }
   ],
   "source": [
    "k_best_result"
   ]
  },
  {
   "cell_type": "markdown",
   "metadata": {},
   "source": [
    "### Linear"
   ]
  },
  {
   "cell_type": "code",
   "execution_count": 38,
   "metadata": {
    "collapsed": false
   },
   "outputs": [
    {
     "name": "stderr",
     "output_type": "stream",
     "text": [
      "C:\\Users\\leland\\Anaconda2\\lib\\site-packages\\sklearn\\utils\\deprecation.py:70: DeprecationWarning: Function transform is deprecated; Support to use estimators as feature selectors will be removed in version 0.19. Use SelectFromModel instead.\n",
      "  warnings.warn(msg, category=DeprecationWarning)\n"
     ]
    }
   ],
   "source": [
    "from sklearn.svm import LinearSVC\n",
    "svc = LinearSVC(penalty=\"l1\", dual=False, random_state=31)\n",
    "svc_features = svc.fit_transform(features, labels)"
   ]
  },
  {
   "cell_type": "code",
   "execution_count": 39,
   "metadata": {
    "collapsed": true
   },
   "outputs": [],
   "source": [
    "svc_result = zip(features_list[1:], svc.coef_[0])\n",
    "svc_result.sort(key=lambda value:value[1], reverse=True)"
   ]
  },
  {
   "cell_type": "code",
   "execution_count": 40,
   "metadata": {
    "collapsed": false
   },
   "outputs": [
    {
     "name": "stdout",
     "output_type": "stream",
     "text": [
      "(143L, 15L)\n"
     ]
    },
    {
     "data": {
      "text/plain": [
       "[('from_this_person_to_poi', 0.34922456010185954),\n",
       " ('exercised_stock_options', 0.24666814961570338),\n",
       " ('restricted_stock_deferred', 0.22758636485092776),\n",
       " ('shared_receipt_with_poi', 0.21752929822528697),\n",
       " ('salary', 0.13771530317856642),\n",
       " ('poi_to_ratio', 0.1101750768240648),\n",
       " ('expenses', 0.088938286840805514),\n",
       " ('poi_from_ratio', 0.080378416019982468),\n",
       " ('total_payments', 0.0),\n",
       " ('restricted_stock', 0.0),\n",
       " ('total_stock_value', 0.0),\n",
       " ('loan_advances', 0.0),\n",
       " ('director_fees', 0.0),\n",
       " ('from_poi_to_this_person', 0.0),\n",
       " ('other', -0.023571168057028531),\n",
       " ('bonus', -0.047621998743623356),\n",
       " ('long_term_incentive', -0.075600360613638631),\n",
       " ('to_messages', -0.084276570412668492),\n",
       " ('deferral_payments', -0.59166506213251135),\n",
       " ('deferred_income', -0.60013019012160695),\n",
       " ('from_messages', -1.0360609112678858)]"
      ]
     },
     "execution_count": 40,
     "metadata": {},
     "output_type": "execute_result"
    }
   ],
   "source": [
    "print(svc_features.shape)\n",
    "svc_result"
   ]
  },
  {
   "cell_type": "markdown",
   "metadata": {},
   "source": [
    "### Randomized Logistic Regression"
   ]
  },
  {
   "cell_type": "code",
   "execution_count": 41,
   "metadata": {
    "collapsed": true
   },
   "outputs": [],
   "source": [
    "from sklearn.linear_model import RandomizedLogisticRegression\n",
    "randomized_logistic = RandomizedLogisticRegression(C=1, selection_threshold=0.01, random_state=31)\n",
    "randomized_features = randomized_logistic.fit_transform(features, labels)\n",
    "randomized_result = zip(features_list[1:], randomized_logistic.scores_, randomized_logistic.get_support())\n",
    "randomized_result.sort(key=lambda value:value[1], reverse=True)"
   ]
  },
  {
   "cell_type": "code",
   "execution_count": 42,
   "metadata": {
    "collapsed": false
   },
   "outputs": [
    {
     "name": "stdout",
     "output_type": "stream",
     "text": [
      "(143L, 5L)\n"
     ]
    },
    {
     "data": {
      "text/plain": [
       "[('exercised_stock_options', 0.27500000000000002, True),\n",
       " ('bonus', 0.255, True),\n",
       " ('total_stock_value', 0.19500000000000001, True),\n",
       " ('salary', 0.155, True),\n",
       " ('deferred_income', 0.125, True),\n",
       " ('shared_receipt_with_poi', 0.01, False),\n",
       " ('total_payments', 0.0050000000000000001, False),\n",
       " ('long_term_incentive', 0.0050000000000000001, False),\n",
       " ('to_messages', 0.0, False),\n",
       " ('deferral_payments', 0.0, False),\n",
       " ('restricted_stock', 0.0, False),\n",
       " ('restricted_stock_deferred', 0.0, False),\n",
       " ('expenses', 0.0, False),\n",
       " ('loan_advances', 0.0, False),\n",
       " ('from_messages', 0.0, False),\n",
       " ('other', 0.0, False),\n",
       " ('from_this_person_to_poi', 0.0, False),\n",
       " ('director_fees', 0.0, False),\n",
       " ('from_poi_to_this_person', 0.0, False),\n",
       " ('poi_from_ratio', 0.0, False),\n",
       " ('poi_to_ratio', 0.0, False)]"
      ]
     },
     "execution_count": 42,
     "metadata": {},
     "output_type": "execute_result"
    }
   ],
   "source": [
    "print(randomized_features.shape)\n",
    "randomized_result"
   ]
  },
  {
   "cell_type": "markdown",
   "metadata": {},
   "source": [
    "### Extra Tree Classifier\n"
   ]
  },
  {
   "cell_type": "code",
   "execution_count": 43,
   "metadata": {
    "collapsed": false,
    "scrolled": true
   },
   "outputs": [
    {
     "name": "stderr",
     "output_type": "stream",
     "text": [
      "C:\\Users\\leland\\Anaconda2\\lib\\site-packages\\sklearn\\utils\\deprecation.py:70: DeprecationWarning: Function transform is deprecated; Support to use estimators as feature selectors will be removed in version 0.19. Use SelectFromModel instead.\n",
      "  warnings.warn(msg, category=DeprecationWarning)\n"
     ]
    }
   ],
   "source": [
    "from sklearn.ensemble import ExtraTreesClassifier\n",
    "tree = ExtraTreesClassifier(max_features=5, random_state=31)\n",
    "tree_features = tree.fit_transform(features, labels)\n",
    "tree_result = zip(features_list[1:], tree.feature_importances_)\n",
    "tree_result.sort(key=lambda value: value[1], reverse=True)"
   ]
  },
  {
   "cell_type": "code",
   "execution_count": 44,
   "metadata": {
    "collapsed": false
   },
   "outputs": [
    {
     "name": "stdout",
     "output_type": "stream",
     "text": [
      "(143L, 9L)\n"
     ]
    },
    {
     "data": {
      "text/plain": [
       "[('exercised_stock_options', 0.09926509112426482),\n",
       " ('total_stock_value', 0.086209354218185458),\n",
       " ('salary', 0.084276813907338419),\n",
       " ('restricted_stock', 0.084251679125490392),\n",
       " ('bonus', 0.071663452637353381),\n",
       " ('deferred_income', 0.064385019884511771),\n",
       " ('shared_receipt_with_poi', 0.063612497256099784),\n",
       " ('poi_from_ratio', 0.06010921747455561),\n",
       " ('other', 0.047810184146652043),\n",
       " ('from_poi_to_this_person', 0.047273922567663128),\n",
       " ('to_messages', 0.045646104914421268),\n",
       " ('long_term_incentive', 0.041958962602810783),\n",
       " ('from_this_person_to_poi', 0.041046578809189951),\n",
       " ('expenses', 0.040900955127109076),\n",
       " ('total_payments', 0.037838460888789532),\n",
       " ('from_messages', 0.032430155954519556),\n",
       " ('poi_to_ratio', 0.02992961300196028),\n",
       " ('deferral_payments', 0.014649303350970025),\n",
       " ('restricted_stock_deferred', 0.0063616961889425656),\n",
       " ('director_fees', 0.00038093681917212099),\n",
       " ('loan_advances', 0.0)]"
      ]
     },
     "execution_count": 44,
     "metadata": {},
     "output_type": "execute_result"
    }
   ],
   "source": [
    "print(tree_features.shape)\n",
    "tree_result"
   ]
  },
  {
   "cell_type": "markdown",
   "metadata": {},
   "source": [
    "### PCA"
   ]
  },
  {
   "cell_type": "code",
   "execution_count": 45,
   "metadata": {
    "collapsed": true
   },
   "outputs": [],
   "source": [
    "from sklearn.decomposition import PCA\n",
    "pca = PCA(n_components=5)\n",
    "pca_features = pca.fit_transform(features, labels)\n",
    "pca_result = pca.explained_variance_ratio_"
   ]
  },
  {
   "cell_type": "code",
   "execution_count": 46,
   "metadata": {
    "collapsed": false
   },
   "outputs": [
    {
     "data": {
      "text/plain": [
       "array([ 0.31103997,  0.16426573,  0.08671483,  0.06394905,  0.0562138 ])"
      ]
     },
     "execution_count": 46,
     "metadata": {},
     "output_type": "execute_result"
    }
   ],
   "source": [
    "pca_result"
   ]
  },
  {
   "cell_type": "markdown",
   "metadata": {},
   "source": [
    "### Summary of feature selections\n",
    "\n",
    "We will summarize the top features kept by above methods\n",
    "\n",
    "- **Kbest**: exercised_stock_options,total_stock_value, bonus,salary,deferred_income, long_term_incentive, total_payments\n",
    "- **SVC** : exercised_stock_options, poi_to_ratio,poi_from_ratio,bonus, expenses, shared_receipt_with_poi, salary, to_messages, from_messages, deferred_income, deferral_payments.\n",
    "- **randomized_result**: exercised_stock_options, bonus, total_stock_value, salary,deferred_income\n",
    "- **tree_result**: We could keep 9 features"
   ]
  },
  {
   "cell_type": "markdown",
   "metadata": {},
   "source": [
    "## 3.4 Final features and data for Models"
   ]
  },
  {
   "cell_type": "code",
   "execution_count": 47,
   "metadata": {
    "collapsed": true
   },
   "outputs": [],
   "source": [
    "features_list = ['poi',\n",
    "                 'salary',\n",
    "                 'deferral_payments',\n",
    "                 'total_payments',\n",
    "                 'exercised_stock_options',\n",
    "                 'bonus',\n",
    "                 'restricted_stock',\n",
    "                 'shared_receipt_with_poi',\n",
    "                 'restricted_stock_deferred',\n",
    "                 'total_stock_value',\n",
    "                 'expenses',\n",
    "                 'loan_advances',\n",
    "                 'deferred_income',\n",
    "                 'long_term_incentive',\n",
    "                 ]\n",
    "### Extract features and labels from dataset for local testing\n",
    "data = featureFormat(my_dataset, features_list, sort_keys = True)\n",
    "labels, features = targetFeatureSplit(data)"
   ]
  },
  {
   "cell_type": "code",
   "execution_count": 48,
   "metadata": {
    "collapsed": true
   },
   "outputs": [],
   "source": [
    "# scale the final data\n",
    "features = scale(features)"
   ]
  },
  {
   "cell_type": "code",
   "execution_count": 49,
   "metadata": {
    "collapsed": true
   },
   "outputs": [],
   "source": [
    "# Split data into train and test\n",
    "features_train, features_test, labels_train, labels_test = \\\n",
    "    train_test_split(features, labels, test_size=0.3, random_state=42)"
   ]
  },
  {
   "cell_type": "markdown",
   "metadata": {},
   "source": [
    "# 4. Pick and Tune an Algorithm\n",
    "\n"
   ]
  },
  {
   "cell_type": "markdown",
   "metadata": {},
   "source": [
    "## 4.1 Different Algorithms \n",
    "\n",
    "### Algorithms\n",
    "We will try following algorithms.\n",
    "- Decision Trees\n",
    "- Naive Bayes\n",
    "- SVM\n",
    "- Ensemble Classifers: Random Forest \n",
    "\n",
    "### Parameter Tuning and Importacnce\n",
    "\n",
    "- Different algorithms deal with different data. Some algorithms are better than others depending on the data.\n",
    "- The tuning of parameters deal with different assumptions on the data. Even though you are using the same type of algorithm, you might try different setting to optimize the behavior of your data.\n",
    "- Different tuning paramters also have differnt characteristics such as speed or sensitivety. Depending on your data size or other aspects, you might adopt different settings."
   ]
  },
  {
   "cell_type": "markdown",
   "metadata": {},
   "source": [
    "### Setting up modules"
   ]
  },
  {
   "cell_type": "code",
   "execution_count": 50,
   "metadata": {
    "collapsed": true
   },
   "outputs": [],
   "source": [
    "from sklearn.naive_bayes import GaussianNB\n",
    "from sklearn import tree\n",
    "from sklearn.model_selection import GridSearchCV\n",
    "from sklearn.metrics import recall_score\n",
    "from sklearn.metrics import precision_score\n",
    "from sklearn import svm\n"
   ]
  },
  {
   "cell_type": "markdown",
   "metadata": {},
   "source": [
    "## 4.2 Tuning Algorithms"
   ]
  },
  {
   "cell_type": "markdown",
   "metadata": {},
   "source": [
    "### Naive Bayes"
   ]
  },
  {
   "cell_type": "code",
   "execution_count": 54,
   "metadata": {
    "collapsed": false
   },
   "outputs": [
    {
     "name": "stdout",
     "output_type": "stream",
     "text": [
      "0.883720930233\n",
      "('NB algorithm time:', 0.001, 's')\n"
     ]
    }
   ],
   "source": [
    "### try Naive Bayes for prediction\n",
    "t0 = time()\n",
    "nb_clf = GaussianNB()\n",
    "nb_clf.fit(features_train, labels_train)\n",
    "nb_pred = nb_clf.predict(features_test)\n",
    "nb_accuracy = accuracy_score(labels_test,nb_pred)\n",
    "print(nb_accuracy)\n",
    "\n",
    "print(\"NB algorithm time:\", round(time()-t0, 3), \"s\")"
   ]
  },
  {
   "cell_type": "code",
   "execution_count": 55,
   "metadata": {
    "collapsed": false
   },
   "outputs": [
    {
     "data": {
      "text/plain": [
       "0.59999999999999998"
      ]
     },
     "execution_count": 55,
     "metadata": {},
     "output_type": "execute_result"
    }
   ],
   "source": [
    "recall_score(labels_test,nb_pred)"
   ]
  },
  {
   "cell_type": "code",
   "execution_count": 56,
   "metadata": {
    "collapsed": false,
    "scrolled": true
   },
   "outputs": [
    {
     "data": {
      "text/plain": [
       "0.5"
      ]
     },
     "execution_count": 56,
     "metadata": {},
     "output_type": "execute_result"
    }
   ],
   "source": [
    "precision_score(labels_test,nb_pred)"
   ]
  },
  {
   "cell_type": "markdown",
   "metadata": {},
   "source": [
    "### Decision Tree"
   ]
  },
  {
   "cell_type": "code",
   "execution_count": 57,
   "metadata": {
    "collapsed": false
   },
   "outputs": [
    {
     "name": "stdout",
     "output_type": "stream",
     "text": [
      "0.790697674419\n",
      "Decition Tree algorithm time: 0.001 s\n"
     ]
    }
   ],
   "source": [
    "t0 = time()\n",
    "tree_clf=tree.DecisionTreeClassifier()\n",
    "tree_clf.fit(features_train,labels_train)\n",
    "tree_pred=tree_clf.predict(features_test)\n",
    "accuracy=accuracy_score(labels_test,tree_pred)\n",
    "print accuracy\n",
    "\n",
    "print \"Decition Tree algorithm time:\", round(time()-t0, 3), \"s\""
   ]
  },
  {
   "cell_type": "code",
   "execution_count": 58,
   "metadata": {
    "collapsed": false
   },
   "outputs": [
    {
     "name": "stdout",
     "output_type": "stream",
     "text": [
      "('Recall:', 0.0)\n",
      "('Precision:', 0.0)\n"
     ]
    }
   ],
   "source": [
    "print('Recall:', recall_score(labels_test,tree_pred))\n",
    "print('Precision:', precision_score(labels_test,tree_pred))"
   ]
  },
  {
   "cell_type": "markdown",
   "metadata": {},
   "source": [
    "### Tuning Using GridSearchCV "
   ]
  },
  {
   "cell_type": "code",
   "execution_count": 61,
   "metadata": {
    "collapsed": false
   },
   "outputs": [
    {
     "name": "stdout",
     "output_type": "stream",
     "text": [
      "Decition Tree algorithm time: 3.92 s\n"
     ]
    }
   ],
   "source": [
    "t0 = time()\n",
    "\n",
    "parameters_tree = {'max_depth':range(3,20),'criterion':('gini','entropy'),'min_samples_split':range(2,20)}\n",
    "tree_clf = GridSearchCV(tree.DecisionTreeClassifier(), parameters_tree)\n",
    "tree_clf.fit(features_train,labels_train)\n",
    "tree_model=tree_clf.best_estimator_\n",
    "tree_pred=tree_model.predict(features_test)\n",
    "tree_accuracy=accuracy_score(labels_test,tree_pred)\n",
    "print \"Decition Tree algorithm time:\", round(time()-t0, 3), \"s\""
   ]
  },
  {
   "cell_type": "code",
   "execution_count": 63,
   "metadata": {
    "collapsed": false
   },
   "outputs": [
    {
     "name": "stdout",
     "output_type": "stream",
     "text": [
      "(0.83999999999999997, {'min_samples_split': 5, 'criterion': 'entropy', 'max_depth': 3})\n",
      "('Accuracy:', 0.83720930232558144)\n",
      "('Recall:', 0.20000000000000001)\n",
      "('Precision:', 0.25)\n"
     ]
    }
   ],
   "source": [
    "print (tree_clf.best_score_, tree_clf.best_params_) \n",
    "print('Accuracy:', tree_accuracy)\n",
    "print('Recall:', recall_score(labels_test,tree_pred))\n",
    "print('Precision:', precision_score(labels_test,tree_pred))"
   ]
  },
  {
   "cell_type": "markdown",
   "metadata": {},
   "source": [
    "The tree method is not better than the Naive Bayes."
   ]
  },
  {
   "cell_type": "markdown",
   "metadata": {},
   "source": [
    "### SVM"
   ]
  },
  {
   "cell_type": "code",
   "execution_count": 64,
   "metadata": {
    "collapsed": false
   },
   "outputs": [
    {
     "name": "stdout",
     "output_type": "stream",
     "text": [
      "0.883720930233\n",
      "SVM algorithm time: 0.002 s\n"
     ]
    }
   ],
   "source": [
    "t0=time()\n",
    "svm_clf=svm.SVC()\n",
    "svm_clf.fit(features_train,labels_train)\n",
    "svm_pred=svm_clf.predict(features_test)\n",
    "\n",
    "accuracy=accuracy_score(labels_test,svm_pred)\n",
    "print accuracy\n",
    "\n",
    "print \"SVM algorithm time:\", round(time()-t0, 3), \"s\""
   ]
  },
  {
   "cell_type": "code",
   "execution_count": 67,
   "metadata": {
    "collapsed": false
   },
   "outputs": [
    {
     "name": "stdout",
     "output_type": "stream",
     "text": [
      "('Recall:', 0.0)\n",
      "('Precision:', 0.0)\n"
     ]
    }
   ],
   "source": [
    "print('Recall:', recall_score(labels_test,svm_pred))\n",
    "print('Precision:', precision_score(labels_test,svm_pred))"
   ]
  },
  {
   "cell_type": "markdown",
   "metadata": {},
   "source": [
    "### Tuning Using GridSearchCV "
   ]
  },
  {
   "cell_type": "code",
   "execution_count": 68,
   "metadata": {
    "collapsed": false
   },
   "outputs": [
    {
     "name": "stdout",
     "output_type": "stream",
     "text": [
      "SVM algorithm time: 0.089 s\n"
     ]
    }
   ],
   "source": [
    "t0=time()\n",
    "parameters_svm = {'kernel':('linear', 'poly', 'rbf', 'sigmoid'), 'C':[1, 20]}\n",
    "svm_clf=GridSearchCV(svm.SVC(),parameters_svm)\n",
    "svm_clf.fit(features_train,labels_train)\n",
    "svm_model=svm_clf.best_estimator_\n",
    "svm_pred=svm_model.predict(features_test)\n",
    "accuracy=accuracy_score(labels_test,svm_pred)\n",
    "print \"SVM algorithm time:\", round(time()-t0, 3), \"s\""
   ]
  },
  {
   "cell_type": "code",
   "execution_count": 69,
   "metadata": {
    "collapsed": false
   },
   "outputs": [
    {
     "name": "stdout",
     "output_type": "stream",
     "text": [
      "(0.88, {'kernel': 'sigmoid', 'C': 1})\n",
      "('Accuracy', 0.86046511627906974)\n",
      "('Recall:', 0.0)\n",
      "('Precision:', 0.0)\n"
     ]
    }
   ],
   "source": [
    "print (svm_clf.best_score_, svm_clf.best_params_) \n",
    "print('Accuracy', accuracy)\n",
    "print('Recall:', recall_score(labels_test,svm_pred))\n",
    "print('Precision:', precision_score(labels_test,svm_pred))"
   ]
  },
  {
   "cell_type": "markdown",
   "metadata": {},
   "source": [
    "### Random Forest "
   ]
  },
  {
   "cell_type": "code",
   "execution_count": 76,
   "metadata": {
    "collapsed": false
   },
   "outputs": [
    {
     "data": {
      "text/plain": [
       "0.90697674418604646"
      ]
     },
     "execution_count": 76,
     "metadata": {},
     "output_type": "execute_result"
    }
   ],
   "source": [
    "from sklearn.ensemble import RandomForestClassifier\n",
    "clf = RandomForestClassifier(n_estimators=10)\n",
    "clf.fit(features_train,labels_train)\n",
    "pred=clf.predict(features_test)\n",
    "acc=accuracy_score(labels_test,pred)\n",
    "acc\n"
   ]
  },
  {
   "cell_type": "code",
   "execution_count": 77,
   "metadata": {
    "collapsed": false
   },
   "outputs": [
    {
     "data": {
      "text/plain": [
       "0.20000000000000001"
      ]
     },
     "execution_count": 77,
     "metadata": {},
     "output_type": "execute_result"
    }
   ],
   "source": [
    "recall_score(labels_test,pred)"
   ]
  },
  {
   "cell_type": "code",
   "execution_count": 78,
   "metadata": {
    "collapsed": false
   },
   "outputs": [
    {
     "data": {
      "text/plain": [
       "1.0"
      ]
     },
     "execution_count": 78,
     "metadata": {},
     "output_type": "execute_result"
    }
   ],
   "source": [
    "precision_score(labels_test,pred)"
   ]
  },
  {
   "cell_type": "markdown",
   "metadata": {},
   "source": [
    "### Tuning Using GridSearchCV "
   ]
  },
  {
   "cell_type": "code",
   "execution_count": 80,
   "metadata": {
    "collapsed": false
   },
   "outputs": [
    {
     "ename": "KeyboardInterrupt",
     "evalue": "",
     "output_type": "error",
     "traceback": [
      "\u001b[0;31m---------------------------------------------------------------------------\u001b[0m",
      "\u001b[0;31mKeyboardInterrupt\u001b[0m                         Traceback (most recent call last)",
      "\u001b[0;32m<ipython-input-80-820f9570cea2>\u001b[0m in \u001b[0;36m<module>\u001b[0;34m()\u001b[0m\n\u001b[1;32m      5\u001b[0m \u001b[1;33m\u001b[0m\u001b[0m\n\u001b[1;32m      6\u001b[0m \u001b[0mrf_clf\u001b[0m \u001b[1;33m=\u001b[0m \u001b[0mGridSearchCV\u001b[0m\u001b[1;33m(\u001b[0m\u001b[0mrf\u001b[0m\u001b[1;33m,\u001b[0m \u001b[0mparameters_tree\u001b[0m\u001b[1;33m)\u001b[0m\u001b[1;33m\u001b[0m\u001b[0m\n\u001b[0;32m----> 7\u001b[0;31m \u001b[0mrf_clf\u001b[0m\u001b[1;33m.\u001b[0m\u001b[0mfit\u001b[0m\u001b[1;33m(\u001b[0m\u001b[0mfeatures_train\u001b[0m\u001b[1;33m,\u001b[0m\u001b[0mlabels_train\u001b[0m\u001b[1;33m)\u001b[0m\u001b[1;33m\u001b[0m\u001b[0m\n\u001b[0m\u001b[1;32m      8\u001b[0m \u001b[0mrf_model\u001b[0m\u001b[1;33m=\u001b[0m\u001b[0mtree_clf\u001b[0m\u001b[1;33m.\u001b[0m\u001b[0mbest_estimator_\u001b[0m\u001b[1;33m\u001b[0m\u001b[0m\n\u001b[1;32m      9\u001b[0m \u001b[0mrf_pred\u001b[0m\u001b[1;33m=\u001b[0m\u001b[0mrf_model\u001b[0m\u001b[1;33m.\u001b[0m\u001b[0mpredict\u001b[0m\u001b[1;33m(\u001b[0m\u001b[0mfeatures_test\u001b[0m\u001b[1;33m)\u001b[0m\u001b[1;33m\u001b[0m\u001b[0m\n",
      "\u001b[0;32mC:\\Users\\leland\\Anaconda2\\lib\\site-packages\\sklearn\\model_selection\\_search.pyc\u001b[0m in \u001b[0;36mfit\u001b[0;34m(self, X, y, groups)\u001b[0m\n\u001b[1;32m    943\u001b[0m             \u001b[0mtrain\u001b[0m\u001b[1;33m/\u001b[0m\u001b[0mtest\u001b[0m \u001b[0mset\u001b[0m\u001b[1;33m.\u001b[0m\u001b[1;33m\u001b[0m\u001b[0m\n\u001b[1;32m    944\u001b[0m         \"\"\"\n\u001b[0;32m--> 945\u001b[0;31m         \u001b[1;32mreturn\u001b[0m \u001b[0mself\u001b[0m\u001b[1;33m.\u001b[0m\u001b[0m_fit\u001b[0m\u001b[1;33m(\u001b[0m\u001b[0mX\u001b[0m\u001b[1;33m,\u001b[0m \u001b[0my\u001b[0m\u001b[1;33m,\u001b[0m \u001b[0mgroups\u001b[0m\u001b[1;33m,\u001b[0m \u001b[0mParameterGrid\u001b[0m\u001b[1;33m(\u001b[0m\u001b[0mself\u001b[0m\u001b[1;33m.\u001b[0m\u001b[0mparam_grid\u001b[0m\u001b[1;33m)\u001b[0m\u001b[1;33m)\u001b[0m\u001b[1;33m\u001b[0m\u001b[0m\n\u001b[0m\u001b[1;32m    946\u001b[0m \u001b[1;33m\u001b[0m\u001b[0m\n\u001b[1;32m    947\u001b[0m \u001b[1;33m\u001b[0m\u001b[0m\n",
      "\u001b[0;32mC:\\Users\\leland\\Anaconda2\\lib\\site-packages\\sklearn\\model_selection\\_search.pyc\u001b[0m in \u001b[0;36m_fit\u001b[0;34m(self, X, y, groups, parameter_iterable)\u001b[0m\n\u001b[1;32m    562\u001b[0m                                   \u001b[0mreturn_times\u001b[0m\u001b[1;33m=\u001b[0m\u001b[0mTrue\u001b[0m\u001b[1;33m,\u001b[0m \u001b[0mreturn_parameters\u001b[0m\u001b[1;33m=\u001b[0m\u001b[0mTrue\u001b[0m\u001b[1;33m,\u001b[0m\u001b[1;33m\u001b[0m\u001b[0m\n\u001b[1;32m    563\u001b[0m                                   error_score=self.error_score)\n\u001b[0;32m--> 564\u001b[0;31m           \u001b[1;32mfor\u001b[0m \u001b[0mparameters\u001b[0m \u001b[1;32min\u001b[0m \u001b[0mparameter_iterable\u001b[0m\u001b[1;33m\u001b[0m\u001b[0m\n\u001b[0m\u001b[1;32m    565\u001b[0m           for train, test in cv_iter)\n\u001b[1;32m    566\u001b[0m \u001b[1;33m\u001b[0m\u001b[0m\n",
      "\u001b[0;32mC:\\Users\\leland\\Anaconda2\\lib\\site-packages\\sklearn\\externals\\joblib\\parallel.pyc\u001b[0m in \u001b[0;36m__call__\u001b[0;34m(self, iterable)\u001b[0m\n\u001b[1;32m    756\u001b[0m             \u001b[1;31m# was dispatched. In particular this covers the edge\u001b[0m\u001b[1;33m\u001b[0m\u001b[1;33m\u001b[0m\u001b[0m\n\u001b[1;32m    757\u001b[0m             \u001b[1;31m# case of Parallel used with an exhausted iterator.\u001b[0m\u001b[1;33m\u001b[0m\u001b[1;33m\u001b[0m\u001b[0m\n\u001b[0;32m--> 758\u001b[0;31m             \u001b[1;32mwhile\u001b[0m \u001b[0mself\u001b[0m\u001b[1;33m.\u001b[0m\u001b[0mdispatch_one_batch\u001b[0m\u001b[1;33m(\u001b[0m\u001b[0miterator\u001b[0m\u001b[1;33m)\u001b[0m\u001b[1;33m:\u001b[0m\u001b[1;33m\u001b[0m\u001b[0m\n\u001b[0m\u001b[1;32m    759\u001b[0m                 \u001b[0mself\u001b[0m\u001b[1;33m.\u001b[0m\u001b[0m_iterating\u001b[0m \u001b[1;33m=\u001b[0m \u001b[0mTrue\u001b[0m\u001b[1;33m\u001b[0m\u001b[0m\n\u001b[1;32m    760\u001b[0m             \u001b[1;32melse\u001b[0m\u001b[1;33m:\u001b[0m\u001b[1;33m\u001b[0m\u001b[0m\n",
      "\u001b[0;32mC:\\Users\\leland\\Anaconda2\\lib\\site-packages\\sklearn\\externals\\joblib\\parallel.pyc\u001b[0m in \u001b[0;36mdispatch_one_batch\u001b[0;34m(self, iterator)\u001b[0m\n\u001b[1;32m    606\u001b[0m                 \u001b[1;32mreturn\u001b[0m \u001b[0mFalse\u001b[0m\u001b[1;33m\u001b[0m\u001b[0m\n\u001b[1;32m    607\u001b[0m             \u001b[1;32melse\u001b[0m\u001b[1;33m:\u001b[0m\u001b[1;33m\u001b[0m\u001b[0m\n\u001b[0;32m--> 608\u001b[0;31m                 \u001b[0mself\u001b[0m\u001b[1;33m.\u001b[0m\u001b[0m_dispatch\u001b[0m\u001b[1;33m(\u001b[0m\u001b[0mtasks\u001b[0m\u001b[1;33m)\u001b[0m\u001b[1;33m\u001b[0m\u001b[0m\n\u001b[0m\u001b[1;32m    609\u001b[0m                 \u001b[1;32mreturn\u001b[0m \u001b[0mTrue\u001b[0m\u001b[1;33m\u001b[0m\u001b[0m\n\u001b[1;32m    610\u001b[0m \u001b[1;33m\u001b[0m\u001b[0m\n",
      "\u001b[0;32mC:\\Users\\leland\\Anaconda2\\lib\\site-packages\\sklearn\\externals\\joblib\\parallel.pyc\u001b[0m in \u001b[0;36m_dispatch\u001b[0;34m(self, batch)\u001b[0m\n\u001b[1;32m    569\u001b[0m         \u001b[0mdispatch_timestamp\u001b[0m \u001b[1;33m=\u001b[0m \u001b[0mtime\u001b[0m\u001b[1;33m.\u001b[0m\u001b[0mtime\u001b[0m\u001b[1;33m(\u001b[0m\u001b[1;33m)\u001b[0m\u001b[1;33m\u001b[0m\u001b[0m\n\u001b[1;32m    570\u001b[0m         \u001b[0mcb\u001b[0m \u001b[1;33m=\u001b[0m \u001b[0mBatchCompletionCallBack\u001b[0m\u001b[1;33m(\u001b[0m\u001b[0mdispatch_timestamp\u001b[0m\u001b[1;33m,\u001b[0m \u001b[0mlen\u001b[0m\u001b[1;33m(\u001b[0m\u001b[0mbatch\u001b[0m\u001b[1;33m)\u001b[0m\u001b[1;33m,\u001b[0m \u001b[0mself\u001b[0m\u001b[1;33m)\u001b[0m\u001b[1;33m\u001b[0m\u001b[0m\n\u001b[0;32m--> 571\u001b[0;31m         \u001b[0mjob\u001b[0m \u001b[1;33m=\u001b[0m \u001b[0mself\u001b[0m\u001b[1;33m.\u001b[0m\u001b[0m_backend\u001b[0m\u001b[1;33m.\u001b[0m\u001b[0mapply_async\u001b[0m\u001b[1;33m(\u001b[0m\u001b[0mbatch\u001b[0m\u001b[1;33m,\u001b[0m \u001b[0mcallback\u001b[0m\u001b[1;33m=\u001b[0m\u001b[0mcb\u001b[0m\u001b[1;33m)\u001b[0m\u001b[1;33m\u001b[0m\u001b[0m\n\u001b[0m\u001b[1;32m    572\u001b[0m         \u001b[0mself\u001b[0m\u001b[1;33m.\u001b[0m\u001b[0m_jobs\u001b[0m\u001b[1;33m.\u001b[0m\u001b[0mappend\u001b[0m\u001b[1;33m(\u001b[0m\u001b[0mjob\u001b[0m\u001b[1;33m)\u001b[0m\u001b[1;33m\u001b[0m\u001b[0m\n\u001b[1;32m    573\u001b[0m \u001b[1;33m\u001b[0m\u001b[0m\n",
      "\u001b[0;32mC:\\Users\\leland\\Anaconda2\\lib\\site-packages\\sklearn\\externals\\joblib\\_parallel_backends.pyc\u001b[0m in \u001b[0;36mapply_async\u001b[0;34m(self, func, callback)\u001b[0m\n\u001b[1;32m    107\u001b[0m     \u001b[1;32mdef\u001b[0m \u001b[0mapply_async\u001b[0m\u001b[1;33m(\u001b[0m\u001b[0mself\u001b[0m\u001b[1;33m,\u001b[0m \u001b[0mfunc\u001b[0m\u001b[1;33m,\u001b[0m \u001b[0mcallback\u001b[0m\u001b[1;33m=\u001b[0m\u001b[0mNone\u001b[0m\u001b[1;33m)\u001b[0m\u001b[1;33m:\u001b[0m\u001b[1;33m\u001b[0m\u001b[0m\n\u001b[1;32m    108\u001b[0m         \u001b[1;34m\"\"\"Schedule a func to be run\"\"\"\u001b[0m\u001b[1;33m\u001b[0m\u001b[0m\n\u001b[0;32m--> 109\u001b[0;31m         \u001b[0mresult\u001b[0m \u001b[1;33m=\u001b[0m \u001b[0mImmediateResult\u001b[0m\u001b[1;33m(\u001b[0m\u001b[0mfunc\u001b[0m\u001b[1;33m)\u001b[0m\u001b[1;33m\u001b[0m\u001b[0m\n\u001b[0m\u001b[1;32m    110\u001b[0m         \u001b[1;32mif\u001b[0m \u001b[0mcallback\u001b[0m\u001b[1;33m:\u001b[0m\u001b[1;33m\u001b[0m\u001b[0m\n\u001b[1;32m    111\u001b[0m             \u001b[0mcallback\u001b[0m\u001b[1;33m(\u001b[0m\u001b[0mresult\u001b[0m\u001b[1;33m)\u001b[0m\u001b[1;33m\u001b[0m\u001b[0m\n",
      "\u001b[0;32mC:\\Users\\leland\\Anaconda2\\lib\\site-packages\\sklearn\\externals\\joblib\\_parallel_backends.pyc\u001b[0m in \u001b[0;36m__init__\u001b[0;34m(self, batch)\u001b[0m\n\u001b[1;32m    324\u001b[0m         \u001b[1;31m# Don't delay the application, to avoid keeping the input\u001b[0m\u001b[1;33m\u001b[0m\u001b[1;33m\u001b[0m\u001b[0m\n\u001b[1;32m    325\u001b[0m         \u001b[1;31m# arguments in memory\u001b[0m\u001b[1;33m\u001b[0m\u001b[1;33m\u001b[0m\u001b[0m\n\u001b[0;32m--> 326\u001b[0;31m         \u001b[0mself\u001b[0m\u001b[1;33m.\u001b[0m\u001b[0mresults\u001b[0m \u001b[1;33m=\u001b[0m \u001b[0mbatch\u001b[0m\u001b[1;33m(\u001b[0m\u001b[1;33m)\u001b[0m\u001b[1;33m\u001b[0m\u001b[0m\n\u001b[0m\u001b[1;32m    327\u001b[0m \u001b[1;33m\u001b[0m\u001b[0m\n\u001b[1;32m    328\u001b[0m     \u001b[1;32mdef\u001b[0m \u001b[0mget\u001b[0m\u001b[1;33m(\u001b[0m\u001b[0mself\u001b[0m\u001b[1;33m)\u001b[0m\u001b[1;33m:\u001b[0m\u001b[1;33m\u001b[0m\u001b[0m\n",
      "\u001b[0;32mC:\\Users\\leland\\Anaconda2\\lib\\site-packages\\sklearn\\externals\\joblib\\parallel.pyc\u001b[0m in \u001b[0;36m__call__\u001b[0;34m(self)\u001b[0m\n\u001b[1;32m    129\u001b[0m \u001b[1;33m\u001b[0m\u001b[0m\n\u001b[1;32m    130\u001b[0m     \u001b[1;32mdef\u001b[0m \u001b[0m__call__\u001b[0m\u001b[1;33m(\u001b[0m\u001b[0mself\u001b[0m\u001b[1;33m)\u001b[0m\u001b[1;33m:\u001b[0m\u001b[1;33m\u001b[0m\u001b[0m\n\u001b[0;32m--> 131\u001b[0;31m         \u001b[1;32mreturn\u001b[0m \u001b[1;33m[\u001b[0m\u001b[0mfunc\u001b[0m\u001b[1;33m(\u001b[0m\u001b[1;33m*\u001b[0m\u001b[0margs\u001b[0m\u001b[1;33m,\u001b[0m \u001b[1;33m**\u001b[0m\u001b[0mkwargs\u001b[0m\u001b[1;33m)\u001b[0m \u001b[1;32mfor\u001b[0m \u001b[0mfunc\u001b[0m\u001b[1;33m,\u001b[0m \u001b[0margs\u001b[0m\u001b[1;33m,\u001b[0m \u001b[0mkwargs\u001b[0m \u001b[1;32min\u001b[0m \u001b[0mself\u001b[0m\u001b[1;33m.\u001b[0m\u001b[0mitems\u001b[0m\u001b[1;33m]\u001b[0m\u001b[1;33m\u001b[0m\u001b[0m\n\u001b[0m\u001b[1;32m    132\u001b[0m \u001b[1;33m\u001b[0m\u001b[0m\n\u001b[1;32m    133\u001b[0m     \u001b[1;32mdef\u001b[0m \u001b[0m__len__\u001b[0m\u001b[1;33m(\u001b[0m\u001b[0mself\u001b[0m\u001b[1;33m)\u001b[0m\u001b[1;33m:\u001b[0m\u001b[1;33m\u001b[0m\u001b[0m\n",
      "\u001b[0;32mC:\\Users\\leland\\Anaconda2\\lib\\site-packages\\sklearn\\model_selection\\_validation.pyc\u001b[0m in \u001b[0;36m_fit_and_score\u001b[0;34m(estimator, X, y, scorer, train, test, verbose, parameters, fit_params, return_train_score, return_parameters, return_n_test_samples, return_times, error_score)\u001b[0m\n\u001b[1;32m    236\u001b[0m             \u001b[0mestimator\u001b[0m\u001b[1;33m.\u001b[0m\u001b[0mfit\u001b[0m\u001b[1;33m(\u001b[0m\u001b[0mX_train\u001b[0m\u001b[1;33m,\u001b[0m \u001b[1;33m**\u001b[0m\u001b[0mfit_params\u001b[0m\u001b[1;33m)\u001b[0m\u001b[1;33m\u001b[0m\u001b[0m\n\u001b[1;32m    237\u001b[0m         \u001b[1;32melse\u001b[0m\u001b[1;33m:\u001b[0m\u001b[1;33m\u001b[0m\u001b[0m\n\u001b[0;32m--> 238\u001b[0;31m             \u001b[0mestimator\u001b[0m\u001b[1;33m.\u001b[0m\u001b[0mfit\u001b[0m\u001b[1;33m(\u001b[0m\u001b[0mX_train\u001b[0m\u001b[1;33m,\u001b[0m \u001b[0my_train\u001b[0m\u001b[1;33m,\u001b[0m \u001b[1;33m**\u001b[0m\u001b[0mfit_params\u001b[0m\u001b[1;33m)\u001b[0m\u001b[1;33m\u001b[0m\u001b[0m\n\u001b[0m\u001b[1;32m    239\u001b[0m \u001b[1;33m\u001b[0m\u001b[0m\n\u001b[1;32m    240\u001b[0m     \u001b[1;32mexcept\u001b[0m \u001b[0mException\u001b[0m \u001b[1;32mas\u001b[0m \u001b[0me\u001b[0m\u001b[1;33m:\u001b[0m\u001b[1;33m\u001b[0m\u001b[0m\n",
      "\u001b[0;32mC:\\Users\\leland\\Anaconda2\\lib\\site-packages\\sklearn\\ensemble\\forest.pyc\u001b[0m in \u001b[0;36mfit\u001b[0;34m(self, X, y, sample_weight)\u001b[0m\n\u001b[1;32m    312\u001b[0m             \u001b[1;32mfor\u001b[0m \u001b[0mi\u001b[0m \u001b[1;32min\u001b[0m \u001b[0mrange\u001b[0m\u001b[1;33m(\u001b[0m\u001b[0mn_more_estimators\u001b[0m\u001b[1;33m)\u001b[0m\u001b[1;33m:\u001b[0m\u001b[1;33m\u001b[0m\u001b[0m\n\u001b[1;32m    313\u001b[0m                 tree = self._make_estimator(append=False,\n\u001b[0;32m--> 314\u001b[0;31m                                             random_state=random_state)\n\u001b[0m\u001b[1;32m    315\u001b[0m                 \u001b[0mtrees\u001b[0m\u001b[1;33m.\u001b[0m\u001b[0mappend\u001b[0m\u001b[1;33m(\u001b[0m\u001b[0mtree\u001b[0m\u001b[1;33m)\u001b[0m\u001b[1;33m\u001b[0m\u001b[0m\n\u001b[1;32m    316\u001b[0m \u001b[1;33m\u001b[0m\u001b[0m\n",
      "\u001b[0;32mC:\\Users\\leland\\Anaconda2\\lib\\site-packages\\sklearn\\ensemble\\base.pyc\u001b[0m in \u001b[0;36m_make_estimator\u001b[0;34m(self, append, random_state)\u001b[0m\n\u001b[1;32m    117\u001b[0m         \u001b[0msub\u001b[0m\u001b[1;33m-\u001b[0m\u001b[0mestimators\u001b[0m\u001b[1;33m.\u001b[0m\u001b[1;33m\u001b[0m\u001b[0m\n\u001b[1;32m    118\u001b[0m         \"\"\"\n\u001b[0;32m--> 119\u001b[0;31m         \u001b[0mestimator\u001b[0m \u001b[1;33m=\u001b[0m \u001b[0mclone\u001b[0m\u001b[1;33m(\u001b[0m\u001b[0mself\u001b[0m\u001b[1;33m.\u001b[0m\u001b[0mbase_estimator_\u001b[0m\u001b[1;33m)\u001b[0m\u001b[1;33m\u001b[0m\u001b[0m\n\u001b[0m\u001b[1;32m    120\u001b[0m         estimator.set_params(**dict((p, getattr(self, p))\n\u001b[1;32m    121\u001b[0m                                     for p in self.estimator_params))\n",
      "\u001b[0;32mC:\\Users\\leland\\Anaconda2\\lib\\site-packages\\sklearn\\base.pyc\u001b[0m in \u001b[0;36mclone\u001b[0;34m(estimator, safe)\u001b[0m\n\u001b[1;32m     69\u001b[0m         \u001b[0mnew_object_params\u001b[0m\u001b[1;33m[\u001b[0m\u001b[0mname\u001b[0m\u001b[1;33m]\u001b[0m \u001b[1;33m=\u001b[0m \u001b[0mclone\u001b[0m\u001b[1;33m(\u001b[0m\u001b[0mparam\u001b[0m\u001b[1;33m,\u001b[0m \u001b[0msafe\u001b[0m\u001b[1;33m=\u001b[0m\u001b[0mFalse\u001b[0m\u001b[1;33m)\u001b[0m\u001b[1;33m\u001b[0m\u001b[0m\n\u001b[1;32m     70\u001b[0m     \u001b[0mnew_object\u001b[0m \u001b[1;33m=\u001b[0m \u001b[0mklass\u001b[0m\u001b[1;33m(\u001b[0m\u001b[1;33m**\u001b[0m\u001b[0mnew_object_params\u001b[0m\u001b[1;33m)\u001b[0m\u001b[1;33m\u001b[0m\u001b[0m\n\u001b[0;32m---> 71\u001b[0;31m     \u001b[0mparams_set\u001b[0m \u001b[1;33m=\u001b[0m \u001b[0mnew_object\u001b[0m\u001b[1;33m.\u001b[0m\u001b[0mget_params\u001b[0m\u001b[1;33m(\u001b[0m\u001b[0mdeep\u001b[0m\u001b[1;33m=\u001b[0m\u001b[0mFalse\u001b[0m\u001b[1;33m)\u001b[0m\u001b[1;33m\u001b[0m\u001b[0m\n\u001b[0m\u001b[1;32m     72\u001b[0m \u001b[1;33m\u001b[0m\u001b[0m\n\u001b[1;32m     73\u001b[0m     \u001b[1;31m# quick sanity check of the parameters of the clone\u001b[0m\u001b[1;33m\u001b[0m\u001b[1;33m\u001b[0m\u001b[0m\n",
      "\u001b[0;32mC:\\Users\\leland\\Anaconda2\\lib\\site-packages\\sklearn\\base.pyc\u001b[0m in \u001b[0;36mget_params\u001b[0;34m(self, deep)\u001b[0m\n\u001b[1;32m    233\u001b[0m         \"\"\"\n\u001b[1;32m    234\u001b[0m         \u001b[0mout\u001b[0m \u001b[1;33m=\u001b[0m \u001b[0mdict\u001b[0m\u001b[1;33m(\u001b[0m\u001b[1;33m)\u001b[0m\u001b[1;33m\u001b[0m\u001b[0m\n\u001b[0;32m--> 235\u001b[0;31m         \u001b[1;32mfor\u001b[0m \u001b[0mkey\u001b[0m \u001b[1;32min\u001b[0m \u001b[0mself\u001b[0m\u001b[1;33m.\u001b[0m\u001b[0m_get_param_names\u001b[0m\u001b[1;33m(\u001b[0m\u001b[1;33m)\u001b[0m\u001b[1;33m:\u001b[0m\u001b[1;33m\u001b[0m\u001b[0m\n\u001b[0m\u001b[1;32m    236\u001b[0m             \u001b[1;31m# We need deprecation warnings to always be on in order to\u001b[0m\u001b[1;33m\u001b[0m\u001b[1;33m\u001b[0m\u001b[0m\n\u001b[1;32m    237\u001b[0m             \u001b[1;31m# catch deprecated param values.\u001b[0m\u001b[1;33m\u001b[0m\u001b[1;33m\u001b[0m\u001b[0m\n",
      "\u001b[0;32mC:\\Users\\leland\\Anaconda2\\lib\\site-packages\\sklearn\\base.pyc\u001b[0m in \u001b[0;36m_get_param_names\u001b[0;34m(cls)\u001b[0m\n\u001b[1;32m    203\u001b[0m         \u001b[1;31m# introspect the constructor arguments to find the model parameters\u001b[0m\u001b[1;33m\u001b[0m\u001b[1;33m\u001b[0m\u001b[0m\n\u001b[1;32m    204\u001b[0m         \u001b[1;31m# to represent\u001b[0m\u001b[1;33m\u001b[0m\u001b[1;33m\u001b[0m\u001b[0m\n\u001b[0;32m--> 205\u001b[0;31m         \u001b[0minit_signature\u001b[0m \u001b[1;33m=\u001b[0m \u001b[0msignature\u001b[0m\u001b[1;33m(\u001b[0m\u001b[0minit\u001b[0m\u001b[1;33m)\u001b[0m\u001b[1;33m\u001b[0m\u001b[0m\n\u001b[0m\u001b[1;32m    206\u001b[0m         \u001b[1;31m# Consider the constructor parameters excluding 'self'\u001b[0m\u001b[1;33m\u001b[0m\u001b[1;33m\u001b[0m\u001b[0m\n\u001b[1;32m    207\u001b[0m         parameters = [p for p in init_signature.parameters.values()\n",
      "\u001b[0;32mC:\\Users\\leland\\Anaconda2\\lib\\site-packages\\sklearn\\externals\\funcsigs.pyc\u001b[0m in \u001b[0;36msignature\u001b[0;34m(obj)\u001b[0m\n\u001b[1;32m     60\u001b[0m \u001b[1;33m\u001b[0m\u001b[0m\n\u001b[1;32m     61\u001b[0m     \u001b[1;32mif\u001b[0m \u001b[0misinstance\u001b[0m\u001b[1;33m(\u001b[0m\u001b[0mobj\u001b[0m\u001b[1;33m,\u001b[0m \u001b[0mtypes\u001b[0m\u001b[1;33m.\u001b[0m\u001b[0mMethodType\u001b[0m\u001b[1;33m)\u001b[0m\u001b[1;33m:\u001b[0m\u001b[1;33m\u001b[0m\u001b[0m\n\u001b[0;32m---> 62\u001b[0;31m         \u001b[0msig\u001b[0m \u001b[1;33m=\u001b[0m \u001b[0msignature\u001b[0m\u001b[1;33m(\u001b[0m\u001b[0mobj\u001b[0m\u001b[1;33m.\u001b[0m\u001b[0m__func__\u001b[0m\u001b[1;33m)\u001b[0m\u001b[1;33m\u001b[0m\u001b[0m\n\u001b[0m\u001b[1;32m     63\u001b[0m         \u001b[1;32mif\u001b[0m \u001b[0mobj\u001b[0m\u001b[1;33m.\u001b[0m\u001b[0m__self__\u001b[0m \u001b[1;32mis\u001b[0m \u001b[0mNone\u001b[0m\u001b[1;33m:\u001b[0m\u001b[1;33m\u001b[0m\u001b[0m\n\u001b[1;32m     64\u001b[0m             \u001b[1;31m# Unbound method: the first parameter becomes positional-only\u001b[0m\u001b[1;33m\u001b[0m\u001b[1;33m\u001b[0m\u001b[0m\n",
      "\u001b[0;32mC:\\Users\\leland\\Anaconda2\\lib\\site-packages\\sklearn\\externals\\funcsigs.pyc\u001b[0m in \u001b[0;36msignature\u001b[0;34m(obj)\u001b[0m\n\u001b[1;32m     92\u001b[0m \u001b[1;33m\u001b[0m\u001b[0m\n\u001b[1;32m     93\u001b[0m     \u001b[1;32mif\u001b[0m \u001b[0misinstance\u001b[0m\u001b[1;33m(\u001b[0m\u001b[0mobj\u001b[0m\u001b[1;33m,\u001b[0m \u001b[0mtypes\u001b[0m\u001b[1;33m.\u001b[0m\u001b[0mFunctionType\u001b[0m\u001b[1;33m)\u001b[0m\u001b[1;33m:\u001b[0m\u001b[1;33m\u001b[0m\u001b[0m\n\u001b[0;32m---> 94\u001b[0;31m         \u001b[1;32mreturn\u001b[0m \u001b[0mSignature\u001b[0m\u001b[1;33m.\u001b[0m\u001b[0mfrom_function\u001b[0m\u001b[1;33m(\u001b[0m\u001b[0mobj\u001b[0m\u001b[1;33m)\u001b[0m\u001b[1;33m\u001b[0m\u001b[0m\n\u001b[0m\u001b[1;32m     95\u001b[0m \u001b[1;33m\u001b[0m\u001b[0m\n\u001b[1;32m     96\u001b[0m     \u001b[1;32mif\u001b[0m \u001b[0misinstance\u001b[0m\u001b[1;33m(\u001b[0m\u001b[0mobj\u001b[0m\u001b[1;33m,\u001b[0m \u001b[0mfunctools\u001b[0m\u001b[1;33m.\u001b[0m\u001b[0mpartial\u001b[0m\u001b[1;33m)\u001b[0m\u001b[1;33m:\u001b[0m\u001b[1;33m\u001b[0m\u001b[0m\n",
      "\u001b[0;32mC:\\Users\\leland\\Anaconda2\\lib\\site-packages\\sklearn\\externals\\funcsigs.pyc\u001b[0m in \u001b[0;36mfrom_function\u001b[0;34m(cls, func)\u001b[0m\n\u001b[1;32m    581\u001b[0m         return cls(parameters,\n\u001b[1;32m    582\u001b[0m                    \u001b[0mreturn_annotation\u001b[0m\u001b[1;33m=\u001b[0m\u001b[0mannotations\u001b[0m\u001b[1;33m.\u001b[0m\u001b[0mget\u001b[0m\u001b[1;33m(\u001b[0m\u001b[1;34m'return'\u001b[0m\u001b[1;33m,\u001b[0m \u001b[0m_empty\u001b[0m\u001b[1;33m)\u001b[0m\u001b[1;33m,\u001b[0m\u001b[1;33m\u001b[0m\u001b[0m\n\u001b[0;32m--> 583\u001b[0;31m                    __validate_parameters__=False)\n\u001b[0m\u001b[1;32m    584\u001b[0m \u001b[1;33m\u001b[0m\u001b[0m\n\u001b[1;32m    585\u001b[0m     \u001b[1;33m@\u001b[0m\u001b[0mproperty\u001b[0m\u001b[1;33m\u001b[0m\u001b[0m\n",
      "\u001b[0;32mC:\\Users\\leland\\Anaconda2\\lib\\site-packages\\sklearn\\externals\\funcsigs.pyc\u001b[0m in \u001b[0;36m__init__\u001b[0;34m(self, parameters, return_annotation, __validate_parameters__)\u001b[0m\n\u001b[1;32m    505\u001b[0m             \u001b[1;32melse\u001b[0m\u001b[1;33m:\u001b[0m\u001b[1;33m\u001b[0m\u001b[0m\n\u001b[1;32m    506\u001b[0m                 params = OrderedDict(((param.name, param)\n\u001b[0;32m--> 507\u001b[0;31m                                                 for param in parameters))\n\u001b[0m\u001b[1;32m    508\u001b[0m \u001b[1;33m\u001b[0m\u001b[0m\n\u001b[1;32m    509\u001b[0m         \u001b[0mself\u001b[0m\u001b[1;33m.\u001b[0m\u001b[0m_parameters\u001b[0m \u001b[1;33m=\u001b[0m \u001b[0mparams\u001b[0m\u001b[1;33m\u001b[0m\u001b[0m\n",
      "\u001b[0;32mC:\\Users\\leland\\Anaconda2\\lib\\collections.pyc\u001b[0m in \u001b[0;36m__init__\u001b[0;34m(*args, **kwds)\u001b[0m\n\u001b[1;32m     67\u001b[0m             \u001b[0mroot\u001b[0m\u001b[1;33m[\u001b[0m\u001b[1;33m:\u001b[0m\u001b[1;33m]\u001b[0m \u001b[1;33m=\u001b[0m \u001b[1;33m[\u001b[0m\u001b[0mroot\u001b[0m\u001b[1;33m,\u001b[0m \u001b[0mroot\u001b[0m\u001b[1;33m,\u001b[0m \u001b[0mNone\u001b[0m\u001b[1;33m]\u001b[0m\u001b[1;33m\u001b[0m\u001b[0m\n\u001b[1;32m     68\u001b[0m             \u001b[0mself\u001b[0m\u001b[1;33m.\u001b[0m\u001b[0m__map\u001b[0m \u001b[1;33m=\u001b[0m \u001b[1;33m{\u001b[0m\u001b[1;33m}\u001b[0m\u001b[1;33m\u001b[0m\u001b[0m\n\u001b[0;32m---> 69\u001b[0;31m         \u001b[0mself\u001b[0m\u001b[1;33m.\u001b[0m\u001b[0m__update\u001b[0m\u001b[1;33m(\u001b[0m\u001b[1;33m*\u001b[0m\u001b[0margs\u001b[0m\u001b[1;33m,\u001b[0m \u001b[1;33m**\u001b[0m\u001b[0mkwds\u001b[0m\u001b[1;33m)\u001b[0m\u001b[1;33m\u001b[0m\u001b[0m\n\u001b[0m\u001b[1;32m     70\u001b[0m \u001b[1;33m\u001b[0m\u001b[0m\n\u001b[1;32m     71\u001b[0m     \u001b[1;32mdef\u001b[0m \u001b[0m__setitem__\u001b[0m\u001b[1;33m(\u001b[0m\u001b[0mself\u001b[0m\u001b[1;33m,\u001b[0m \u001b[0mkey\u001b[0m\u001b[1;33m,\u001b[0m \u001b[0mvalue\u001b[0m\u001b[1;33m,\u001b[0m \u001b[0mdict_setitem\u001b[0m\u001b[1;33m=\u001b[0m\u001b[0mdict\u001b[0m\u001b[1;33m.\u001b[0m\u001b[0m__setitem__\u001b[0m\u001b[1;33m)\u001b[0m\u001b[1;33m:\u001b[0m\u001b[1;33m\u001b[0m\u001b[0m\n",
      "\u001b[0;32mC:\\Users\\leland\\Anaconda2\\lib\\_abcoll.pyc\u001b[0m in \u001b[0;36mupdate\u001b[0;34m(*args, **kwds)\u001b[0m\n\u001b[1;32m    570\u001b[0m             \u001b[1;32melse\u001b[0m\u001b[1;33m:\u001b[0m\u001b[1;33m\u001b[0m\u001b[0m\n\u001b[1;32m    571\u001b[0m                 \u001b[1;32mfor\u001b[0m \u001b[0mkey\u001b[0m\u001b[1;33m,\u001b[0m \u001b[0mvalue\u001b[0m \u001b[1;32min\u001b[0m \u001b[0mother\u001b[0m\u001b[1;33m:\u001b[0m\u001b[1;33m\u001b[0m\u001b[0m\n\u001b[0;32m--> 572\u001b[0;31m                     \u001b[0mself\u001b[0m\u001b[1;33m[\u001b[0m\u001b[0mkey\u001b[0m\u001b[1;33m]\u001b[0m \u001b[1;33m=\u001b[0m \u001b[0mvalue\u001b[0m\u001b[1;33m\u001b[0m\u001b[0m\n\u001b[0m\u001b[1;32m    573\u001b[0m         \u001b[1;32mfor\u001b[0m \u001b[0mkey\u001b[0m\u001b[1;33m,\u001b[0m \u001b[0mvalue\u001b[0m \u001b[1;32min\u001b[0m \u001b[0mkwds\u001b[0m\u001b[1;33m.\u001b[0m\u001b[0mitems\u001b[0m\u001b[1;33m(\u001b[0m\u001b[1;33m)\u001b[0m\u001b[1;33m:\u001b[0m\u001b[1;33m\u001b[0m\u001b[0m\n\u001b[1;32m    574\u001b[0m             \u001b[0mself\u001b[0m\u001b[1;33m[\u001b[0m\u001b[0mkey\u001b[0m\u001b[1;33m]\u001b[0m \u001b[1;33m=\u001b[0m \u001b[0mvalue\u001b[0m\u001b[1;33m\u001b[0m\u001b[0m\n",
      "\u001b[0;32mC:\\Users\\leland\\Anaconda2\\lib\\collections.pyc\u001b[0m in \u001b[0;36m__setitem__\u001b[0;34m(self, key, value, dict_setitem)\u001b[0m\n\u001b[1;32m     75\u001b[0m         \u001b[1;32mif\u001b[0m \u001b[0mkey\u001b[0m \u001b[1;32mnot\u001b[0m \u001b[1;32min\u001b[0m \u001b[0mself\u001b[0m\u001b[1;33m:\u001b[0m\u001b[1;33m\u001b[0m\u001b[0m\n\u001b[1;32m     76\u001b[0m             \u001b[0mroot\u001b[0m \u001b[1;33m=\u001b[0m \u001b[0mself\u001b[0m\u001b[1;33m.\u001b[0m\u001b[0m__root\u001b[0m\u001b[1;33m\u001b[0m\u001b[0m\n\u001b[0;32m---> 77\u001b[0;31m             \u001b[0mlast\u001b[0m \u001b[1;33m=\u001b[0m \u001b[0mroot\u001b[0m\u001b[1;33m[\u001b[0m\u001b[1;36m0\u001b[0m\u001b[1;33m]\u001b[0m\u001b[1;33m\u001b[0m\u001b[0m\n\u001b[0m\u001b[1;32m     78\u001b[0m             \u001b[0mlast\u001b[0m\u001b[1;33m[\u001b[0m\u001b[1;36m1\u001b[0m\u001b[1;33m]\u001b[0m \u001b[1;33m=\u001b[0m \u001b[0mroot\u001b[0m\u001b[1;33m[\u001b[0m\u001b[1;36m0\u001b[0m\u001b[1;33m]\u001b[0m \u001b[1;33m=\u001b[0m \u001b[0mself\u001b[0m\u001b[1;33m.\u001b[0m\u001b[0m__map\u001b[0m\u001b[1;33m[\u001b[0m\u001b[0mkey\u001b[0m\u001b[1;33m]\u001b[0m \u001b[1;33m=\u001b[0m \u001b[1;33m[\u001b[0m\u001b[0mlast\u001b[0m\u001b[1;33m,\u001b[0m \u001b[0mroot\u001b[0m\u001b[1;33m,\u001b[0m \u001b[0mkey\u001b[0m\u001b[1;33m]\u001b[0m\u001b[1;33m\u001b[0m\u001b[0m\n\u001b[1;32m     79\u001b[0m         \u001b[1;32mreturn\u001b[0m \u001b[0mdict_setitem\u001b[0m\u001b[1;33m(\u001b[0m\u001b[0mself\u001b[0m\u001b[1;33m,\u001b[0m \u001b[0mkey\u001b[0m\u001b[1;33m,\u001b[0m \u001b[0mvalue\u001b[0m\u001b[1;33m)\u001b[0m\u001b[1;33m\u001b[0m\u001b[0m\n",
      "\u001b[0;31mKeyboardInterrupt\u001b[0m: "
     ]
    }
   ],
   "source": [
    "t0 = time()\n",
    "\n",
    "parameters_tree = {'max_depth':range(3,20),'criterion':('gini','entropy'),\\\n",
    "                   'min_samples_split':range(2,20),'n_estimators':range(10,30)}\n",
    "\n",
    "rf=RandomForestClassifier()\n",
    "\n",
    "rf_clf = GridSearchCV(rf, parameters_tree)\n",
    "rf_clf.fit(features_train,labels_train)\n",
    "rf_model=tree_clf.best_estimator_\n",
    "rf_pred=rf_model.predict(features_test)\n",
    "rf_accuracy=accuracy_score(labels_test,rf_pred)\n",
    "print \"Ramdon Forest algorithm time:\", round(time()-t0, 3), \"s\""
   ]
  },
  {
   "cell_type": "code",
   "execution_count": null,
   "metadata": {
    "collapsed": true
   },
   "outputs": [],
   "source": [
    "print (rf_clf.best_score_, rf_clf.best_params_) \n",
    "print('Accuracy:', rf_accuracy)\n",
    "print('Recall:', recall_score(labels_test,rf_pred))\n",
    "print('Precision:', precision_score(labels_test,rf_pred))"
   ]
  },
  {
   "cell_type": "markdown",
   "metadata": {},
   "source": [
    "## 4.2 Algorithm Output"
   ]
  },
  {
   "cell_type": "markdown",
   "metadata": {},
   "source": [
    "# 5. Validate and Evaluate"
   ]
  },
  {
   "cell_type": "code",
   "execution_count": null,
   "metadata": {
    "collapsed": true
   },
   "outputs": [],
   "source": []
  },
  {
   "cell_type": "code",
   "execution_count": null,
   "metadata": {
    "collapsed": true
   },
   "outputs": [],
   "source": []
  },
  {
   "cell_type": "code",
   "execution_count": null,
   "metadata": {
    "collapsed": true
   },
   "outputs": [],
   "source": []
  },
  {
   "cell_type": "code",
   "execution_count": null,
   "metadata": {
    "collapsed": true
   },
   "outputs": [],
   "source": []
  },
  {
   "cell_type": "code",
   "execution_count": null,
   "metadata": {
    "collapsed": true
   },
   "outputs": [],
   "source": []
  },
  {
   "cell_type": "code",
   "execution_count": null,
   "metadata": {
    "collapsed": true
   },
   "outputs": [],
   "source": []
  },
  {
   "cell_type": "code",
   "execution_count": null,
   "metadata": {
    "collapsed": true
   },
   "outputs": [],
   "source": []
  },
  {
   "cell_type": "code",
   "execution_count": null,
   "metadata": {
    "collapsed": true
   },
   "outputs": [],
   "source": []
  },
  {
   "cell_type": "code",
   "execution_count": null,
   "metadata": {
    "collapsed": true
   },
   "outputs": [],
   "source": [
    "\n",
    "\n",
    "\n",
    "### Task 4: Try a varity of classifiers\n",
    "### Please name your classifier clf for easy export below.\n",
    "### Note that if you want to do PCA or other multi-stage operations,\n",
    "### you'll need to use Pipelines. For more info:\n",
    "### http://scikit-learn.org/stable/modules/pipeline.html\n",
    "\n",
    "# Provided to give you a starting point. Try a variety of classifiers.\n",
    "clf = GaussianNB()\n",
    "\n",
    "### Task 5: Tune your classifier to achieve better than .3 precision and recall \n",
    "### using our testing script. Check the tester.py script in the final project\n",
    "### folder for details on the evaluation method, especially the test_classifier\n",
    "### function. Because of the small size of the dataset, the script uses\n",
    "### stratified shuffle split cross validation. For more info: \n",
    "### http://scikit-learn.org/stable/modules/generated/sklearn.cross_validation.StratifiedShuffleSplit.html\n",
    "\n"
   ]
  },
  {
   "cell_type": "code",
   "execution_count": null,
   "metadata": {
    "collapsed": true
   },
   "outputs": [],
   "source": []
  },
  {
   "cell_type": "code",
   "execution_count": null,
   "metadata": {
    "collapsed": true
   },
   "outputs": [],
   "source": []
  },
  {
   "cell_type": "code",
   "execution_count": null,
   "metadata": {
    "collapsed": true
   },
   "outputs": [],
   "source": []
  },
  {
   "cell_type": "code",
   "execution_count": null,
   "metadata": {
    "collapsed": true
   },
   "outputs": [],
   "source": []
  },
  {
   "cell_type": "code",
   "execution_count": null,
   "metadata": {
    "collapsed": true
   },
   "outputs": [],
   "source": []
  },
  {
   "cell_type": "code",
   "execution_count": null,
   "metadata": {
    "collapsed": true
   },
   "outputs": [],
   "source": []
  },
  {
   "cell_type": "code",
   "execution_count": null,
   "metadata": {
    "collapsed": true
   },
   "outputs": [],
   "source": []
  },
  {
   "cell_type": "code",
   "execution_count": null,
   "metadata": {
    "collapsed": true
   },
   "outputs": [],
   "source": []
  },
  {
   "cell_type": "code",
   "execution_count": null,
   "metadata": {
    "collapsed": true
   },
   "outputs": [],
   "source": []
  },
  {
   "cell_type": "markdown",
   "metadata": {},
   "source": [
    "# Reference\n",
    "\n",
    "[1. Fraud-detection-enron](https://github.com/yyforyongyu/fraud-detection-enron/blob/master/main/poi_id.ipynb)\n",
    "\n",
    "[2. Udacity](https://classroom.udacity.com/nanodegrees/nd002/parts/0021345409/modules/317428862475461/lessons/3174288624239847/concepts/31803986370923)\n",
    "\n",
    "[3. Identify Enron Data](https://jaycode.github.io/enron/identifying-fraud-from-enron-email.html)\n",
    "\n",
    "[4. Identifying Fraud from Enron Email](http://cyuancheng.github.io/Intro-Machine-Learning/)\n",
    "\n",
    "[5 Intro ML](https://github.com/cyuancheng/Intro-Machine-Learning/blob/master/Project4_ML_workflow.ipynb)\n",
    "\n",
    "[6.Enron](https://github.com/DariaAlekseeva/Enron_Dataset/blob/master/Enron%20POI%20Detector%20Project%20Assignment.ipynb)"
   ]
  }
 ],
 "metadata": {
  "kernelspec": {
   "display_name": "Python 2",
   "language": "python",
   "name": "python2"
  },
  "language_info": {
   "codemirror_mode": {
    "name": "ipython",
    "version": 2
   },
   "file_extension": ".py",
   "mimetype": "text/x-python",
   "name": "python",
   "nbconvert_exporter": "python",
   "pygments_lexer": "ipython2",
   "version": "2.7.13"
  }
 },
 "nbformat": 4,
 "nbformat_minor": 2
}
